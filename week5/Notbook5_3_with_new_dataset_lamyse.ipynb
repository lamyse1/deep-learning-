{
  "cells": [
    {
      "cell_type": "markdown",
      "metadata": {
        "id": "view-in-github",
        "colab_type": "text"
      },
      "source": [
        "<a href=\"https://colab.research.google.com/github/lamyse1/deep-learning-/blob/main/week5/Notbook5_3_with_new_dataset_lamyse.ipynb\" target=\"_parent\"><img src=\"https://colab.research.google.com/assets/colab-badge.svg\" alt=\"Open In Colab\"/></a>"
      ]
    },
    {
      "cell_type": "markdown",
      "metadata": {
        "id": "CWv1PFkVZqRp"
      },
      "source": [
        "\n",
        "# AAI612: Deep Learning & its Applications\n",
        "\n",
        "*Notebook 5.3: KerasTuner*\n",
        "\n"
      ]
    },
    {
      "cell_type": "markdown",
      "metadata": {
        "id": "kxgVEhBDZqRr"
      },
      "source": [
        "Ensure that KerasTuner is installed:"
      ]
    },
    {
      "cell_type": "code",
      "source": [
        "import pandas as pd\n",
        "\n",
        "# Load the dataset from the URL\n",
        "url = \"https://raw.githubusercontent.com/harmanani/AAI612/refs/heads/main/Week3/breast_cancer/data.csv\"\n",
        "df = pd.read_csv(url)\n",
        "\n",
        "# Display the first 5 rows of the dataset\n",
        "print(df.head())\n"
      ],
      "metadata": {
        "colab": {
          "base_uri": "https://localhost:8080/"
        },
        "id": "K8A3B6mv1hcq",
        "outputId": "b873afae-cee2-4375-8691-cc12974f849d"
      },
      "execution_count": 23,
      "outputs": [
        {
          "output_type": "stream",
          "name": "stdout",
          "text": [
            "         id diagnosis  radius_mean  texture_mean  perimeter_mean  area_mean  \\\n",
            "0    842302         M        17.99         10.38          122.80     1001.0   \n",
            "1    842517         M        20.57         17.77          132.90     1326.0   \n",
            "2  84300903         M        19.69         21.25          130.00     1203.0   \n",
            "3  84348301         M        11.42         20.38           77.58      386.1   \n",
            "4  84358402         M        20.29         14.34          135.10     1297.0   \n",
            "\n",
            "   smoothness_mean  compactness_mean  concavity_mean  concave points_mean  \\\n",
            "0          0.11840           0.27760          0.3001              0.14710   \n",
            "1          0.08474           0.07864          0.0869              0.07017   \n",
            "2          0.10960           0.15990          0.1974              0.12790   \n",
            "3          0.14250           0.28390          0.2414              0.10520   \n",
            "4          0.10030           0.13280          0.1980              0.10430   \n",
            "\n",
            "   ...  texture_worst  perimeter_worst  area_worst  smoothness_worst  \\\n",
            "0  ...          17.33           184.60      2019.0            0.1622   \n",
            "1  ...          23.41           158.80      1956.0            0.1238   \n",
            "2  ...          25.53           152.50      1709.0            0.1444   \n",
            "3  ...          26.50            98.87       567.7            0.2098   \n",
            "4  ...          16.67           152.20      1575.0            0.1374   \n",
            "\n",
            "   compactness_worst  concavity_worst  concave points_worst  symmetry_worst  \\\n",
            "0             0.6656           0.7119                0.2654          0.4601   \n",
            "1             0.1866           0.2416                0.1860          0.2750   \n",
            "2             0.4245           0.4504                0.2430          0.3613   \n",
            "3             0.8663           0.6869                0.2575          0.6638   \n",
            "4             0.2050           0.4000                0.1625          0.2364   \n",
            "\n",
            "   fractal_dimension_worst  Unnamed: 32  \n",
            "0                  0.11890          NaN  \n",
            "1                  0.08902          NaN  \n",
            "2                  0.08758          NaN  \n",
            "3                  0.17300          NaN  \n",
            "4                  0.07678          NaN  \n",
            "\n",
            "[5 rows x 33 columns]\n"
          ]
        }
      ]
    },
    {
      "cell_type": "code",
      "source": [
        "\n",
        "\n",
        "#  Encode the target variable 'diagnosis' (M = 1 for malignant, B = 0 for benign)\n",
        "df['diagnosis'] = df['diagnosis'].map({'M': 1, 'B': 0})\n",
        "\n",
        "# : Drop the 'id' column as it is irrelevant for the model\n",
        "df = df.drop(columns=['id'])\n",
        "\n",
        "#  Normalize the input features\n",
        "from sklearn.preprocessing import StandardScaler\n",
        "\n",
        "scaler = StandardScaler()\n",
        "X = df.drop(columns=['diagnosis'])\n",
        "X = pd.DataFrame(scaler.fit_transform(X), columns=X.columns)\n",
        "y = df['diagnosis']\n",
        "\n",
        "# Display the processed dataset\n",
        "print(X.head())\n",
        "print(y.head())\n"
      ],
      "metadata": {
        "colab": {
          "base_uri": "https://localhost:8080/"
        },
        "id": "s7EInW262Xu6",
        "outputId": "5f193f5d-0d53-43b8-d142-9f25cbf0da7c"
      },
      "execution_count": 24,
      "outputs": [
        {
          "output_type": "stream",
          "name": "stdout",
          "text": [
            "   radius_mean  texture_mean  perimeter_mean  area_mean  smoothness_mean  \\\n",
            "0     1.097064     -2.073335        1.269934   0.984375         1.568466   \n",
            "1     1.829821     -0.353632        1.685955   1.908708        -0.826962   \n",
            "2     1.579888      0.456187        1.566503   1.558884         0.942210   \n",
            "3    -0.768909      0.253732       -0.592687  -0.764464         3.283553   \n",
            "4     1.750297     -1.151816        1.776573   1.826229         0.280372   \n",
            "\n",
            "   compactness_mean  concavity_mean  concave points_mean  symmetry_mean  \\\n",
            "0          3.283515        2.652874             2.532475       2.217515   \n",
            "1         -0.487072       -0.023846             0.548144       0.001392   \n",
            "2          1.052926        1.363478             2.037231       0.939685   \n",
            "3          3.402909        1.915897             1.451707       2.867383   \n",
            "4          0.539340        1.371011             1.428493      -0.009560   \n",
            "\n",
            "   fractal_dimension_mean  ...  texture_worst  perimeter_worst  area_worst  \\\n",
            "0                2.255747  ...      -1.359293         2.303601    2.001237   \n",
            "1               -0.868652  ...      -0.369203         1.535126    1.890489   \n",
            "2               -0.398008  ...      -0.023974         1.347475    1.456285   \n",
            "3                4.910919  ...       0.133984        -0.249939   -0.550021   \n",
            "4               -0.562450  ...      -1.466770         1.338539    1.220724   \n",
            "\n",
            "   smoothness_worst  compactness_worst  concavity_worst  concave points_worst  \\\n",
            "0          1.307686           2.616665         2.109526              2.296076   \n",
            "1         -0.375612          -0.430444        -0.146749              1.087084   \n",
            "2          0.527407           1.082932         0.854974              1.955000   \n",
            "3          3.394275           3.893397         1.989588              2.175786   \n",
            "4          0.220556          -0.313395         0.613179              0.729259   \n",
            "\n",
            "   symmetry_worst  fractal_dimension_worst  Unnamed: 32  \n",
            "0        2.750622                 1.937015          NaN  \n",
            "1       -0.243890                 0.281190          NaN  \n",
            "2        1.152255                 0.201391          NaN  \n",
            "3        6.046041                 4.935010          NaN  \n",
            "4       -0.868353                -0.397100          NaN  \n",
            "\n",
            "[5 rows x 31 columns]\n",
            "0    1\n",
            "1    1\n",
            "2    1\n",
            "3    1\n",
            "4    1\n",
            "Name: diagnosis, dtype: int64\n"
          ]
        },
        {
          "output_type": "stream",
          "name": "stderr",
          "text": [
            "/usr/local/lib/python3.11/dist-packages/sklearn/utils/extmath.py:1101: RuntimeWarning: invalid value encountered in divide\n",
            "  updated_mean = (last_sum + new_sum) / updated_sample_count\n",
            "/usr/local/lib/python3.11/dist-packages/sklearn/utils/extmath.py:1106: RuntimeWarning: invalid value encountered in divide\n",
            "  T = new_sum / new_sample_count\n",
            "/usr/local/lib/python3.11/dist-packages/sklearn/utils/extmath.py:1126: RuntimeWarning: invalid value encountered in divide\n",
            "  new_unnormalized_variance -= correction**2 / new_sample_count\n"
          ]
        }
      ]
    },
    {
      "cell_type": "code",
      "source": [
        "X_train = X_train.fillna(0)\n",
        "X_test = X_test.fillna(0)\n",
        "\n",
        "# Verify if there are still missing values\n",
        "print(\"Missing values in X_train:\", X_train.isna().sum().sum())\n",
        "print(\"Missing values in X_test:\", X_test.isna().sum().sum())\n",
        "\n",
        "\n"
      ],
      "metadata": {
        "colab": {
          "base_uri": "https://localhost:8080/"
        },
        "id": "4-AgVRPs9cWx",
        "outputId": "ffcee56c-f29b-42a1-b7b0-5cdd9ed05e0e"
      },
      "execution_count": 30,
      "outputs": [
        {
          "output_type": "stream",
          "name": "stdout",
          "text": [
            "Missing values in X_train: 0\n",
            "Missing values in X_test: 0\n"
          ]
        }
      ]
    },
    {
      "cell_type": "code",
      "source": [
        "# Build and train the best model using the optimal hyperparameters\n",
        "best_model = tuner.hypermodel.build(best_hps)\n",
        "\n",
        "history = best_model.fit(\n",
        "    X_train, y_train,\n",
        "    validation_split=0.2,\n",
        "    batch_size=32,\n",
        "    epochs=50,\n",
        "    verbose=2,\n",
        "    callbacks=[keras.callbacks.EarlyStopping(monitor='val_loss', patience=5)]\n",
        ")\n",
        "\n",
        "# Evaluate the model on the test set\n",
        "loss, accuracy = best_model.evaluate(X_test, y_test)\n",
        "print(f\"Final Test Accuracy: {accuracy:.4f}\")\n"
      ],
      "metadata": {
        "colab": {
          "base_uri": "https://localhost:8080/"
        },
        "id": "pFTndAz0-bOS",
        "outputId": "7d98e4ab-b83c-420f-9eb4-d3dfcbe70ccc"
      },
      "execution_count": 31,
      "outputs": [
        {
          "output_type": "stream",
          "name": "stdout",
          "text": [
            "Epoch 1/50\n",
            "12/12 - 1s - 104ms/step - accuracy: 0.6731 - loss: 0.6242 - val_accuracy: 0.8462 - val_loss: 0.4912\n",
            "Epoch 2/50\n",
            "12/12 - 0s - 10ms/step - accuracy: 0.8846 - loss: 0.4488 - val_accuracy: 0.9011 - val_loss: 0.3641\n",
            "Epoch 3/50\n",
            "12/12 - 0s - 9ms/step - accuracy: 0.9121 - loss: 0.3428 - val_accuracy: 0.9341 - val_loss: 0.2960\n",
            "Epoch 4/50\n",
            "12/12 - 0s - 9ms/step - accuracy: 0.9258 - loss: 0.2796 - val_accuracy: 0.9341 - val_loss: 0.2560\n",
            "Epoch 5/50\n",
            "12/12 - 0s - 9ms/step - accuracy: 0.9341 - loss: 0.2380 - val_accuracy: 0.9341 - val_loss: 0.2290\n",
            "Epoch 6/50\n",
            "12/12 - 0s - 10ms/step - accuracy: 0.9478 - loss: 0.2096 - val_accuracy: 0.9451 - val_loss: 0.2092\n",
            "Epoch 7/50\n",
            "12/12 - 0s - 10ms/step - accuracy: 0.9505 - loss: 0.1886 - val_accuracy: 0.9451 - val_loss: 0.1943\n",
            "Epoch 8/50\n",
            "12/12 - 0s - 10ms/step - accuracy: 0.9533 - loss: 0.1720 - val_accuracy: 0.9560 - val_loss: 0.1822\n",
            "Epoch 9/50\n",
            "12/12 - 0s - 11ms/step - accuracy: 0.9615 - loss: 0.1587 - val_accuracy: 0.9560 - val_loss: 0.1725\n",
            "Epoch 10/50\n",
            "12/12 - 0s - 12ms/step - accuracy: 0.9615 - loss: 0.1475 - val_accuracy: 0.9560 - val_loss: 0.1642\n",
            "Epoch 11/50\n",
            "12/12 - 0s - 11ms/step - accuracy: 0.9615 - loss: 0.1380 - val_accuracy: 0.9670 - val_loss: 0.1574\n",
            "Epoch 12/50\n",
            "12/12 - 0s - 11ms/step - accuracy: 0.9670 - loss: 0.1297 - val_accuracy: 0.9670 - val_loss: 0.1514\n",
            "Epoch 13/50\n",
            "12/12 - 0s - 9ms/step - accuracy: 0.9725 - loss: 0.1224 - val_accuracy: 0.9780 - val_loss: 0.1461\n",
            "Epoch 14/50\n",
            "12/12 - 0s - 10ms/step - accuracy: 0.9753 - loss: 0.1160 - val_accuracy: 0.9780 - val_loss: 0.1414\n",
            "Epoch 15/50\n",
            "12/12 - 0s - 9ms/step - accuracy: 0.9808 - loss: 0.1104 - val_accuracy: 0.9780 - val_loss: 0.1370\n",
            "Epoch 16/50\n",
            "12/12 - 0s - 11ms/step - accuracy: 0.9835 - loss: 0.1049 - val_accuracy: 0.9670 - val_loss: 0.1334\n",
            "Epoch 17/50\n",
            "12/12 - 0s - 12ms/step - accuracy: 0.9835 - loss: 0.1006 - val_accuracy: 0.9670 - val_loss: 0.1302\n",
            "Epoch 18/50\n",
            "12/12 - 0s - 11ms/step - accuracy: 0.9835 - loss: 0.0961 - val_accuracy: 0.9670 - val_loss: 0.1275\n",
            "Epoch 19/50\n",
            "12/12 - 0s - 12ms/step - accuracy: 0.9835 - loss: 0.0925 - val_accuracy: 0.9670 - val_loss: 0.1258\n",
            "Epoch 20/50\n",
            "12/12 - 0s - 12ms/step - accuracy: 0.9890 - loss: 0.0890 - val_accuracy: 0.9670 - val_loss: 0.1236\n",
            "Epoch 21/50\n",
            "12/12 - 0s - 9ms/step - accuracy: 0.9890 - loss: 0.0857 - val_accuracy: 0.9670 - val_loss: 0.1213\n",
            "Epoch 22/50\n",
            "12/12 - 0s - 12ms/step - accuracy: 0.9890 - loss: 0.0829 - val_accuracy: 0.9670 - val_loss: 0.1190\n",
            "Epoch 23/50\n",
            "12/12 - 0s - 11ms/step - accuracy: 0.9890 - loss: 0.0802 - val_accuracy: 0.9670 - val_loss: 0.1169\n",
            "Epoch 24/50\n",
            "12/12 - 0s - 15ms/step - accuracy: 0.9890 - loss: 0.0775 - val_accuracy: 0.9670 - val_loss: 0.1153\n",
            "Epoch 25/50\n",
            "12/12 - 0s - 9ms/step - accuracy: 0.9890 - loss: 0.0752 - val_accuracy: 0.9670 - val_loss: 0.1135\n",
            "Epoch 26/50\n",
            "12/12 - 0s - 15ms/step - accuracy: 0.9890 - loss: 0.0730 - val_accuracy: 0.9670 - val_loss: 0.1120\n",
            "Epoch 27/50\n",
            "12/12 - 0s - 22ms/step - accuracy: 0.9890 - loss: 0.0709 - val_accuracy: 0.9670 - val_loss: 0.1105\n",
            "Epoch 28/50\n",
            "12/12 - 0s - 9ms/step - accuracy: 0.9890 - loss: 0.0689 - val_accuracy: 0.9670 - val_loss: 0.1093\n",
            "Epoch 29/50\n",
            "12/12 - 0s - 12ms/step - accuracy: 0.9890 - loss: 0.0671 - val_accuracy: 0.9670 - val_loss: 0.1081\n",
            "Epoch 30/50\n",
            "12/12 - 0s - 12ms/step - accuracy: 0.9890 - loss: 0.0655 - val_accuracy: 0.9670 - val_loss: 0.1068\n",
            "Epoch 31/50\n",
            "12/12 - 0s - 11ms/step - accuracy: 0.9890 - loss: 0.0639 - val_accuracy: 0.9670 - val_loss: 0.1057\n",
            "Epoch 32/50\n",
            "12/12 - 0s - 9ms/step - accuracy: 0.9890 - loss: 0.0622 - val_accuracy: 0.9670 - val_loss: 0.1046\n",
            "Epoch 33/50\n",
            "12/12 - 0s - 12ms/step - accuracy: 0.9890 - loss: 0.0607 - val_accuracy: 0.9670 - val_loss: 0.1036\n",
            "Epoch 34/50\n",
            "12/12 - 0s - 9ms/step - accuracy: 0.9890 - loss: 0.0594 - val_accuracy: 0.9670 - val_loss: 0.1029\n",
            "Epoch 35/50\n",
            "12/12 - 0s - 12ms/step - accuracy: 0.9890 - loss: 0.0581 - val_accuracy: 0.9670 - val_loss: 0.1017\n",
            "Epoch 36/50\n",
            "12/12 - 0s - 12ms/step - accuracy: 0.9890 - loss: 0.0568 - val_accuracy: 0.9670 - val_loss: 0.1009\n",
            "Epoch 37/50\n",
            "12/12 - 0s - 9ms/step - accuracy: 0.9890 - loss: 0.0557 - val_accuracy: 0.9670 - val_loss: 0.1006\n",
            "Epoch 38/50\n",
            "12/12 - 0s - 11ms/step - accuracy: 0.9890 - loss: 0.0545 - val_accuracy: 0.9670 - val_loss: 0.1003\n",
            "Epoch 39/50\n",
            "12/12 - 0s - 12ms/step - accuracy: 0.9890 - loss: 0.0534 - val_accuracy: 0.9670 - val_loss: 0.0994\n",
            "Epoch 40/50\n",
            "12/12 - 0s - 9ms/step - accuracy: 0.9863 - loss: 0.0524 - val_accuracy: 0.9670 - val_loss: 0.0989\n",
            "Epoch 41/50\n",
            "12/12 - 0s - 10ms/step - accuracy: 0.9890 - loss: 0.0512 - val_accuracy: 0.9670 - val_loss: 0.0982\n",
            "Epoch 42/50\n",
            "12/12 - 0s - 10ms/step - accuracy: 0.9890 - loss: 0.0503 - val_accuracy: 0.9670 - val_loss: 0.0977\n",
            "Epoch 43/50\n",
            "12/12 - 0s - 10ms/step - accuracy: 0.9890 - loss: 0.0491 - val_accuracy: 0.9670 - val_loss: 0.0973\n",
            "Epoch 44/50\n",
            "12/12 - 0s - 9ms/step - accuracy: 0.9890 - loss: 0.0483 - val_accuracy: 0.9670 - val_loss: 0.0966\n",
            "Epoch 45/50\n",
            "12/12 - 0s - 14ms/step - accuracy: 0.9890 - loss: 0.0475 - val_accuracy: 0.9670 - val_loss: 0.0962\n",
            "Epoch 46/50\n",
            "12/12 - 0s - 9ms/step - accuracy: 0.9890 - loss: 0.0467 - val_accuracy: 0.9670 - val_loss: 0.0962\n",
            "Epoch 47/50\n",
            "12/12 - 0s - 9ms/step - accuracy: 0.9890 - loss: 0.0457 - val_accuracy: 0.9670 - val_loss: 0.0957\n",
            "Epoch 48/50\n",
            "12/12 - 0s - 11ms/step - accuracy: 0.9890 - loss: 0.0449 - val_accuracy: 0.9670 - val_loss: 0.0950\n",
            "Epoch 49/50\n",
            "12/12 - 0s - 9ms/step - accuracy: 0.9890 - loss: 0.0442 - val_accuracy: 0.9670 - val_loss: 0.0947\n",
            "Epoch 50/50\n",
            "12/12 - 0s - 11ms/step - accuracy: 0.9890 - loss: 0.0434 - val_accuracy: 0.9780 - val_loss: 0.0943\n",
            "\u001b[1m4/4\u001b[0m \u001b[32m━━━━━━━━━━━━━━━━━━━━\u001b[0m\u001b[37m\u001b[0m \u001b[1m0s\u001b[0m 9ms/step - accuracy: 0.9850 - loss: 0.0747 \n",
            "Final Test Accuracy: 0.9912\n"
          ]
        }
      ]
    },
    {
      "cell_type": "code",
      "source": [
        "best_model.save('best_breast_cancer_model.keras')\n",
        "\n"
      ],
      "metadata": {
        "id": "gJQbFz75DHwy"
      },
      "execution_count": 34,
      "outputs": []
    },
    {
      "cell_type": "code",
      "source": [
        "import matplotlib.pyplot as plt\n",
        "\n",
        "# Plot training and validation accuracy\n",
        "plt.figure(figsize=(12, 5))\n",
        "\n",
        "plt.subplot(1, 2, 1)\n",
        "plt.plot(history.history['accuracy'], label='Training Accuracy')\n",
        "plt.plot(history.history['val_accuracy'], label='Validation Accuracy')\n",
        "plt.title('Training and Validation Accuracy')\n",
        "plt.xlabel('Epochs')\n",
        "plt.ylabel('Accuracy')\n",
        "plt.legend()\n",
        "\n",
        "# Plot training and validation loss\n",
        "plt.subplot(1, 2, 2)\n",
        "plt.plot(history.history['loss'], label='Training Loss')\n",
        "plt.plot(history.history['val_loss'], label='Validation Loss')\n",
        "plt.title('Training and Validation Loss')\n",
        "plt.xlabel('Epochs')\n",
        "plt.ylabel('Loss')\n",
        "plt.legend()\n",
        "\n",
        "plt.show()\n"
      ],
      "metadata": {
        "colab": {
          "base_uri": "https://localhost:8080/",
          "height": 487
        },
        "id": "hyqOTDkvD5xd",
        "outputId": "7cc953a0-cfa2-4059-da6a-579e9a86e3d4"
      },
      "execution_count": 35,
      "outputs": [
        {
          "output_type": "display_data",
          "data": {
            "text/plain": [
              "<Figure size 1200x500 with 2 Axes>"
            ],
            "image/png": "[encoded data removed]"
          },
          "metadata": {}
        }
      ]
    },
    {
      "cell_type": "code",
      "source": [],
      "metadata": {
        "id": "UHtH5Y5KDmPj"
      },
      "execution_count": null,
      "outputs": []
    },
    {
      "cell_type": "code",
      "source": [],
      "metadata": {
        "id": "yqV9H-WcDl_j"
      },
      "execution_count": null,
      "outputs": []
    }
  ],
  "metadata": {
    "kernelspec": {
      "display_name": "Python 3",
      "language": "python",
      "name": "python3"
    },
    "language_info": {
      "codemirror_mode": {
        "name": "ipython",
        "version": 3
      },
      "file_extension": ".py",
      "mimetype": "text/x-python",
      "name": "python",
      "nbconvert_exporter": "python",
      "pygments_lexer": "ipython3",
      "version": "3.10.11"
    },
    "colab": {
      "provenance": [],
      "include_colab_link": true
    }
  },
  "nbformat": 4,
  "nbformat_minor": 0
}