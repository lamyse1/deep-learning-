{
  "cells": [
    {
      "cell_type": "markdown",
      "metadata": {
        "id": "view-in-github",
        "colab_type": "text"
      },
      "source": [
        "<a href=\"https://colab.research.google.com/github/lamyse1/deep-learning-/blob/main/week1/DL_Notebook1_1_lamyse.ipynb\" target=\"_parent\"><img src=\"https://colab.research.google.com/assets/colab-badge.svg\" alt=\"Open In Colab\"/></a>"
      ]
    },
    {
      "cell_type": "markdown",
      "metadata": {
        "jp-MarkdownHeadingCollapsed": true,
        "id": "D7ia5_Y4Dfh4"
      },
      "source": [
        "\n",
        "# AAI612: Deep Learning & its Applications\n",
        "\n",
        "*Notebook 1.1: Using the perceptron for linear fitting*\n",
        "\n"
      ]
    },
    {
      "cell_type": "markdown",
      "metadata": {
        "id": "ZIAkIlfmCe1B"
      },
      "source": [
        "Notebook 1.1"
      ]
    },
    {
      "cell_type": "markdown",
      "metadata": {
        "id": "fA93WUy1zzWf"
      },
      "source": [
        "In this notebook, we will perform linear regression using a single neuron.  We will be using `TensorFlow` and `Keras`; however, do not worry about the details of the language for the moment as we will get back to these later on.\n",
        "\n",
        "The simple mode we will be looking at will learn the relationship between two numbers and will be used to predict other numbers. For example, if you were writing code for a function like this:\n",
        "\n",
        "\n",
        "```\n",
        "y = mx + b\n",
        "```\n",
        "\n",
        "How would you train a neural network to do the equivalent task? Well, we said using data, a lot of data! The approach is to feed the model with a set of Xs, and a set of Ys, it should be able to figure out the relationship between them."
      ]
    },
    {
      "cell_type": "markdown",
      "metadata": {
        "id": "APB60nCADfh7"
      },
      "source": [
        "# Linear Regression"
      ]
    },
    {
      "cell_type": "markdown",
      "metadata": {
        "id": "zRPziYwyDfh8"
      },
      "source": [
        "Let us start by linear regression.   Assume we have the following simple dataset.  We can easily fit using `polyfit():`"
      ]
    },
    {
      "cell_type": "code",
      "execution_count": null,
      "metadata": {
        "id": "S-OUY9AaDfh8"
      },
      "outputs": [],
      "source": [
        "from numpy.polynomial.polynomial import polyfit\n",
        "import matplotlib.pyplot as plt\n",
        "import numpy as np\n",
        "\n",
        "\n",
        "x = np.array([ 0,  1,  2,  3,  4,  5,  6,  7,  8,  9])\n",
        "y = np.array([10, 20, 25, 30, 40, 45, 40, 50, 60, 55])"
      ]
    },
    {
      "cell_type": "markdown",
      "metadata": {
        "id": "h6aWi2F-Dfh9"
      },
      "source": [
        "Let us explore the data!"
      ]
    },
    {
      "cell_type": "code",
      "execution_count": null,
      "metadata": {
        "id": "08XpghK6Dfh-",
        "outputId": "ab06dc89-7c2f-4524-f5ca-d75913afa086",
        "colab": {
          "base_uri": "https://localhost:8080/",
          "height": 430
        }
      },
      "outputs": [
        {
          "output_type": "display_data",
          "data": {
            "text/plain": [
              "<Figure size 640x480 with 1 Axes>"
            ],
            "image/png": "[encoded data removed]"
          },
          "metadata": {}
        }
      ],
      "source": [
        "plt.plot(x, y, '.')\n",
        "plt.show()"
      ]
    },
    {
      "cell_type": "markdown",
      "metadata": {
        "id": "mk06xpYiDfh_"
      },
      "source": [
        "Now, let us see how we can best fit this data using the `polyfit`:"
      ]
    },
    {
      "cell_type": "code",
      "execution_count": null,
      "metadata": {
        "id": "ldC-rkxdDfiA"
      },
      "outputs": [],
      "source": [
        "b, m = polyfit(x,y,1)\n",
        "\n",
        "y_hat = m*x+b"
      ]
    },
    {
      "cell_type": "markdown",
      "metadata": {
        "id": "-E_Ie5SuDfiA"
      },
      "source": [
        "The above data fit results with the following equation:"
      ]
    },
    {
      "cell_type": "code",
      "execution_count": null,
      "metadata": {
        "id": "r0t--9UPDfiA",
        "colab": {
          "base_uri": "https://localhost:8080/"
        },
        "outputId": "646444ed-36b6-42f6-c1ed-1352265bec09"
      },
      "outputs": [
        {
          "output_type": "stream",
          "name": "stdout",
          "text": [
            "Equation that best fits the data is: Y = 5.12 * x + 14.45\n"
          ]
        }
      ],
      "source": [
        "print(\"Equation that best fits the data is: Y = %2.2f * x + %5.2f\" % (m,b))"
      ]
    },
    {
      "cell_type": "markdown",
      "metadata": {
        "id": "KPgmve2ODfiA"
      },
      "source": [
        "and now, let us see how it fits visually:"
      ]
    },
    {
      "cell_type": "code",
      "execution_count": null,
      "metadata": {
        "id": "8GTLzSwCDfiB",
        "outputId": "34070e07-d279-48d6-f520-089c96bd75e6",
        "colab": {
          "base_uri": "https://localhost:8080/",
          "height": 430
        }
      },
      "outputs": [
        {
          "output_type": "display_data",
          "data": {
            "text/plain": [
              "<Figure size 640x480 with 1 Axes>"
            ],
            "image/png": "[encoded data removed]"
          },
          "metadata": {}
        }
      ],
      "source": [
        "plt.plot(x, y, '.')\n",
        "plt.plot(x, y_hat, '-')\n",
        "plt.show()"
      ]
    },
    {
      "cell_type": "markdown",
      "metadata": {
        "id": "lZS6kgivDfiB"
      },
      "source": [
        "Let us predict y for x = 10"
      ]
    },
    {
      "cell_type": "code",
      "execution_count": null,
      "metadata": {
        "id": "FYk1NefsDfiB",
        "outputId": "cc86b222-dc2b-44cd-baa5-1f3f9adf76cf",
        "colab": {
          "base_uri": "https://localhost:8080/"
        }
      },
      "outputs": [
        {
          "output_type": "stream",
          "name": "stdout",
          "text": [
            "65.66666666666664\n"
          ]
        }
      ],
      "source": [
        "x = 10\n",
        "print(m*x+b)"
      ]
    },
    {
      "cell_type": "markdown",
      "metadata": {
        "id": "g3MJOWdgDfiB"
      },
      "source": [
        "Now, let us try this all over again using one neuron.  We will be using `Keras` and `TesnorFlow`."
      ]
    },
    {
      "cell_type": "markdown",
      "metadata": {
        "id": "DzbtdRcZDO9B"
      },
      "source": [
        "## Imports\n",
        "\n",
        "Let's start with our imports. Here we are importing 'TensorFlow' and calling it tf for ease of use.  We do of course need to import `numpy`, which helps us to represent our data as lists easily and quickly.  Finally, the framework for defining a neural network as a set of Sequential layers is called keras, so we import that too."
      ]
    },
    {
      "cell_type": "code",
      "execution_count": null,
      "metadata": {
        "id": "X9uIpOS2zx7k",
        "outputId": "776a1c8a-78c4-464d-bee5-8f7e811603c9",
        "colab": {
          "base_uri": "https://localhost:8080/"
        }
      },
      "outputs": [
        {
          "output_type": "stream",
          "name": "stdout",
          "text": [
            "2.18.0\n"
          ]
        }
      ],
      "source": [
        "import tensorflow as tf\n",
        "import numpy as np\n",
        "from tensorflow import keras\n",
        "\n",
        "print(tf.__version__)"
      ]
    },
    {
      "cell_type": "markdown",
      "metadata": {
        "id": "wwJGmDrQ0EoB"
      },
      "source": [
        "## Define and Compile the Neural Network\n",
        "\n",
        "Next we will create the simplest possible neural network. It has 1 layer, and that layer has 1 neuron, and the input shape to it is just 1 value."
      ]
    },
    {
      "cell_type": "code",
      "execution_count": null,
      "metadata": {
        "id": "kQFAr_xo0M4T",
        "colab": {
          "base_uri": "https://localhost:8080/"
        },
        "outputId": "37772881-c50d-4028-9739-e8f186a18501"
      },
      "outputs": [
        {
          "output_type": "stream",
          "name": "stderr",
          "text": [
            "/usr/local/lib/python3.11/dist-packages/keras/src/layers/core/dense.py:87: UserWarning: Do not pass an `input_shape`/`input_dim` argument to a layer. When using Sequential models, prefer using an `Input(shape)` object as the first layer in the model instead.\n",
            "  super().__init__(activity_regularizer=activity_regularizer, **kwargs)\n"
          ]
        }
      ],
      "source": [
        "model = tf.keras.Sequential([keras.layers.Dense(units=1, input_shape=[1])])"
      ]
    },
    {
      "cell_type": "markdown",
      "metadata": {
        "id": "KhjZjZ-c0Ok9"
      },
      "source": [
        "Now we compile our Neural Network. When we do so, we have to specify 2 functions, a loss and an optimizer.\n",
        "\n",
        "If you've seen lots of math for machine learning, here's where it's usually used, but in this case it's nicely encapsulated in functions for you. But what happens here — let's explain...\n",
        "\n",
        "We know that in our function, the relationship between the numbers is Y = 5.12 * x + 14.45.\n",
        "\n",
        "When the computer is trying to 'learn' that, it makes a guess...maybe y=10x+10. The LOSS function measures the guessed answers against the known correct answers and measures how well or how badly it did.\n",
        "\n",
        "It then uses the OPTIMIZER function to make another guess. Based on how the loss function went, it will try to minimize the loss. At that point maybe it will come up with somehting like y=5x+5, which, while still pretty bad, is closer to the correct result (i.e. the loss is lower)\n",
        "\n",
        "It will repeat this for the number of EPOCHS which you will see shortly. But first, here's how we tell it to use 'MEAN SQUARED ERROR' for the loss and 'STOCHASTIC GRADIENT DESCENT' for the optimizer. You don't need to understand the math for these yet, but you can see that they work! :)\n",
        "\n",
        "Over time you will learn the different and appropriate loss and optimizer functions for different scenarios.\n"
      ]
    },
    {
      "cell_type": "code",
      "execution_count": null,
      "metadata": {
        "id": "m8YQN1H41L-Y"
      },
      "outputs": [],
      "source": [
        "model.compile(optimizer='sgd', loss='mean_squared_error')"
      ]
    },
    {
      "cell_type": "markdown",
      "metadata": {
        "id": "5QyOUhFw1OUX"
      },
      "source": [
        "## Providing the Data\n",
        "\n",
        "Next up we'll feed in some data. In this case we are taking 6 xs and 6ys. You can see that the relationship between these is that y=2x-1, so where x = -1, y=-3 etc. etc.\n",
        "\n",
        "A python library called 'Numpy' provides lots of array type data structures that are a defacto standard way of doing it. We declare that we want to use these by specifying the values as an np.array[]"
      ]
    },
    {
      "cell_type": "markdown",
      "metadata": {
        "id": "ejM9OX5yDfiD"
      },
      "source": [
        "### Let us try this dataset!"
      ]
    },
    {
      "cell_type": "markdown",
      "metadata": {
        "id": "sVcgqCvIDfiD"
      },
      "source": [
        "Comment the above data set and try this one now:"
      ]
    },
    {
      "cell_type": "code",
      "execution_count": null,
      "metadata": {
        "id": "JaVPda44DfiD"
      },
      "outputs": [],
      "source": [
        "xs = np.array([ 0,  1,  2,  3,  4,  5,  6,  7,  8,  9])\n",
        "ys = np.array([10, 20, 25, 30, 40, 45, 40, 50, 60, 55])"
      ]
    },
    {
      "cell_type": "markdown",
      "metadata": {
        "id": "n_YcWRElnM_b"
      },
      "source": [
        "# Training the Neural Network"
      ]
    },
    {
      "cell_type": "markdown",
      "metadata": {
        "id": "c-Jk4dG91dvD"
      },
      "source": [
        "The process of training the neural network, where it 'learns' the relationship between the Xs and Ys is in the **model.fit**  call. This is where it will go through the loop we spoke about above, making a guess, measuring how good or bad it is (aka the loss), using the opimizer to make another guess etc. It will do it for the number of epochs you specify. When you run this code, you'll see the loss on the right hand side."
      ]
    },
    {
      "cell_type": "code",
      "execution_count": null,
      "metadata": {
        "id": "lpRrl7WK10Pq"
      },
      "outputs": [],
      "source": [
        "from keras.callbacks import History\n",
        "history = History()\n",
        "\n",
        "x = model.fit(xs, ys, epochs=500, callbacks=[history], verbose=0)"
      ]
    },
    {
      "cell_type": "markdown",
      "metadata": {
        "id": "kaFIr71H2OZ-"
      },
      "source": [
        "Ok, that we have a model that we have trained to learn the relationship between X and Y, we can use the **model.predict** method to have it figure out the Y for a previously unknown X. So, for example, if X = 2, what do you think Y will be? Take a guess before you run this code:"
      ]
    },
    {
      "cell_type": "code",
      "execution_count": null,
      "metadata": {
        "id": "pfWIeBzjDfiE",
        "outputId": "d41320c9-b857-4042-84ef-377f156eaab9",
        "colab": {
          "base_uri": "https://localhost:8080/"
        }
      },
      "outputs": [
        {
          "output_type": "stream",
          "name": "stdout",
          "text": [
            "{'loss': [1776.0416259765625, 360.6183166503906, 115.61883544921875, 72.83021545410156, 64.98126983642578, 63.1737174987793, 62.41501998901367, 61.8425178527832, 61.30717086791992, 60.783180236816406, 60.265968322753906, 59.7547492980957, 59.24932098388672, 58.749595642089844, 58.25548553466797, 57.76694869995117, 57.28391647338867, 56.806312561035156, 56.33409881591797, 55.867210388183594, 55.40557861328125, 54.949134826660156, 54.497840881347656, 54.05161666870117, 53.610435485839844, 53.17421340942383, 52.7429084777832, 52.31644821166992, 51.894805908203125, 51.47791290283203, 51.065711975097656, 50.658138275146484, 50.255157470703125, 49.85673522949219, 49.462806701660156, 49.07328796386719, 48.68815994262695, 48.30738067626953, 47.9308967590332, 47.558624267578125, 47.190574645996094, 46.82665252685547, 46.46683883666992, 46.11107635498047, 45.759307861328125, 45.4115104675293, 45.06763458251953, 44.72763442993164, 44.391456604003906, 44.059059143066406, 43.73040771484375, 43.40545654296875, 43.08417510986328, 42.766510009765625, 42.45241928100586, 42.141876220703125, 41.834800720214844, 41.53121566772461, 41.23103332519531, 40.934242248535156, 40.640785217285156, 40.35064697265625, 40.063758850097656, 39.780113220214844, 39.49965286254883, 39.22237014770508, 38.94818878173828, 38.677101135253906, 38.4090690612793, 38.1440544128418, 37.882022857666016, 37.62295150756836, 37.366783142089844, 37.11351776123047, 36.86309814453125, 36.6154899597168, 36.37067794799805, 36.128623962402344, 35.88930130004883, 35.65265655517578, 35.4186897277832, 35.187347412109375, 34.95862579345703, 34.73246765136719, 34.50886917114258, 34.28778076171875, 34.069175720214844, 33.85304641723633, 33.639347076416016, 33.42805480957031, 33.21913528442383, 33.0125846862793, 32.80834197998047, 32.606414794921875, 32.40675354003906, 32.209346771240234, 32.01415252685547, 31.821163177490234, 31.630346298217773, 31.441686630249023, 31.255142211914062, 31.070697784423828, 30.88833236694336, 30.708023071289062, 30.529743194580078, 30.35347557067871, 30.17917823791504, 30.006860733032227, 29.836471557617188, 29.668018341064453, 29.501440048217773, 29.33675193786621, 29.17391586303711, 29.012924194335938, 28.853729248046875, 28.696334838867188, 28.54071617126465, 28.3868465423584, 28.23470687866211, 28.084285736083984, 27.935565948486328, 27.78850746154785, 27.643102645874023, 27.499347686767578, 27.35720443725586, 27.2166690826416, 27.077709197998047, 26.940317153930664, 26.80446434020996, 26.6701602935791, 26.537363052368164, 26.406055450439453, 26.27622413635254, 26.147863388061523, 26.02093505859375, 25.89544677734375, 25.771377563476562, 25.648696899414062, 25.527395248413086, 25.4074649810791, 25.288883209228516, 25.1716365814209, 25.055715560913086, 24.941097259521484, 24.827774047851562, 24.715709686279297, 24.60491943359375, 24.495384216308594, 24.387073516845703, 24.279987335205078, 24.174102783203125, 24.06941795349121, 23.965906143188477, 23.86355972290039, 23.762365341186523, 23.662317276000977, 23.56338882446289, 23.465574264526367, 23.368864059448242, 23.273244857788086, 23.178699493408203, 23.085222244262695, 22.992794036865234, 22.901411056518555, 22.811054229736328, 22.721723556518555, 22.633394241333008, 22.54605484008789, 22.459692001342773, 22.37431526184082, 22.28989601135254, 22.206430435180664, 22.1238956451416, 22.042293548583984, 21.961620330810547, 21.881845474243164, 21.802968978881836, 21.724994659423828, 21.647878646850586, 21.571640014648438, 21.49626350402832, 21.421733856201172, 21.348045349121094, 21.275188446044922, 21.203149795532227, 21.131916046142578, 21.061485290527344, 20.991851806640625, 20.923006057739258, 20.854934692382812, 20.787628173828125, 20.72107696533203, 20.6552791595459, 20.590221405029297, 20.525888442993164, 20.462295532226562, 20.399410247802734, 20.337230682373047, 20.275753021240234, 20.214962005615234, 20.15486717224121, 20.09544563293457, 20.036691665649414, 19.978601455688477, 19.921161651611328, 19.86437225341797, 19.80821418762207, 19.752704620361328, 19.69781494140625, 19.64352798461914, 19.589868545532227, 19.53680992126465, 19.484350204467773, 19.432476043701172, 19.381196975708008, 19.33047866821289, 19.280344009399414, 19.23076629638672, 19.181751251220703, 19.133289337158203, 19.08536720275879, 19.03799819946289, 18.99115562438965, 18.94483184814453, 18.899038314819336, 18.853761672973633, 18.80899429321289, 18.764728546142578, 18.720966339111328, 18.677684783935547, 18.634899139404297, 18.592594146728516, 18.55077362060547, 18.509410858154297, 18.468528747558594, 18.428089141845703, 18.388126373291016, 18.348590850830078, 18.309518814086914, 18.270877838134766, 18.2326717376709, 18.194896697998047, 18.157546997070312, 18.120628356933594, 18.084117889404297, 18.04801368713379, 18.012317657470703, 17.977027893066406, 17.942134857177734, 17.907629013061523, 17.873531341552734, 17.839778900146484, 17.806440353393555, 17.773468017578125, 17.740867614746094, 17.70863151550293, 17.6767578125, 17.645248413085938, 17.614093780517578, 17.58328628540039, 17.55282211303711, 17.5226993560791, 17.492931365966797, 17.463481903076172, 17.434368133544922, 17.405590057373047, 17.377132415771484, 17.348995208740234, 17.32117462158203, 17.29366683959961, 17.26647186279297, 17.239582061767578, 17.212987899780273, 17.18670082092285, 17.16071128845215, 17.135005950927734, 17.10959815979004, 17.084468841552734, 17.059635162353516, 17.03506088256836, 17.01077651977539, 16.986764907836914, 16.963031768798828, 16.939550399780273, 16.91634178161621, 16.89339828491211, 16.87070655822754, 16.848270416259766, 16.82608985900879, 16.804157257080078, 16.782474517822266, 16.76102638244629, 16.73983383178711, 16.718868255615234, 16.69814682006836, 16.677654266357422, 16.657398223876953, 16.637361526489258, 16.617557525634766, 16.597972869873047, 16.57861328125, 16.55946922302246, 16.54053497314453, 16.521818161010742, 16.503311157226562, 16.48501968383789, 16.466928482055664, 16.449045181274414, 16.431358337402344, 16.413869857788086, 16.396587371826172, 16.37949562072754, 16.36258316040039, 16.345882415771484, 16.329355239868164, 16.313013076782227, 16.296863555908203, 16.280893325805664, 16.265098571777344, 16.249481201171875, 16.234050750732422, 16.218788146972656, 16.203697204589844, 16.188772201538086, 16.174015045166016, 16.159427642822266, 16.145009994506836, 16.130746841430664, 16.11664390563965, 16.102703094482422, 16.088916778564453, 16.075286865234375, 16.06181526184082, 16.04848861694336, 16.035320281982422, 16.022289276123047, 16.00940704345703, 15.996676445007324, 15.984087944030762, 15.971636772155762, 15.959327697753906, 15.947171211242676, 15.935124397277832, 15.92323112487793, 15.911468505859375, 15.899836540222168, 15.888328552246094, 15.87696361541748, 15.865728378295898, 15.854612350463867, 15.843622207641602, 15.832754135131836, 15.822011947631836, 15.811383247375488, 15.800877571105957, 15.790496826171875, 15.78022575378418, 15.770072937011719, 15.760040283203125, 15.750114440917969, 15.74029541015625, 15.730598449707031, 15.7210054397583, 15.711520195007324, 15.702140808105469, 15.692865371704102, 15.683691024780273, 15.674631118774414, 15.665667533874512, 15.656806945800781, 15.648046493530273, 15.639379501342773, 15.630819320678711, 15.622343063354492, 15.613965034484863, 15.605687141418457, 15.597506523132324, 15.589408874511719, 15.581402778625488, 15.573492050170898, 15.56566333770752, 15.557928085327148, 15.550283432006836, 15.542719841003418, 15.535238265991211, 15.527853012084961, 15.520541191101074, 15.513300895690918, 15.506166458129883, 15.49909496307373, 15.492114067077637, 15.485208511352539, 15.478376388549805, 15.47161865234375, 15.464940071105957, 15.458343505859375, 15.451812744140625, 15.445361137390137, 15.438980102539062, 15.432668685913086, 15.426435470581055, 15.420262336730957, 15.414172172546387, 15.40814208984375, 15.402180671691895, 15.396280288696289, 15.390451431274414, 15.384689331054688, 15.378987312316895, 15.3733549118042, 15.36779499053955, 15.362279891967773, 15.356837272644043, 15.351446151733398, 15.3461275100708, 15.340860366821289, 15.335659980773926, 15.33051586151123, 15.325424194335938, 15.320399284362793, 15.31541919708252, 15.310501098632812, 15.305641174316406, 15.300840377807617, 15.29608154296875, 15.2913818359375, 15.286737442016602, 15.282137870788574, 15.277597427368164, 15.273107528686523, 15.26866340637207, 15.26427936553955, 15.259930610656738, 15.255636215209961, 15.251398086547852, 15.24718952178955, 15.243047714233398, 15.238943099975586, 15.234890937805176, 15.23088264465332, 15.226916313171387, 15.222990036010742, 15.219111442565918, 15.215286254882812, 15.211496353149414, 15.207743644714355, 15.204046249389648, 15.20037841796875, 15.196752548217773, 15.1931734085083, 15.189631462097168, 15.186128616333008, 15.182670593261719, 15.17924690246582, 15.175867080688477, 15.172523498535156, 15.169209480285645, 15.165936470031738, 15.162704467773438, 15.159507751464844, 15.156346321105957, 15.153223037719727, 15.150125503540039, 15.147069931030273, 15.144048690795898, 15.141061782836914, 15.13810920715332, 15.135187149047852, 15.132304191589355, 15.129446029663086, 15.126623153686523, 15.123835563659668, 15.121068954467773, 15.118345260620117, 15.115643501281738, 15.11297607421875, 15.110345840454102, 15.107731819152832, 15.105154037475586, 15.102605819702148, 15.100080490112305, 15.097590446472168, 15.095128059387207, 15.092687606811523, 15.090276718139648, 15.087895393371582, 15.085548400878906, 15.083209037780762, 15.080914497375488, 15.078630447387695, 15.076380729675293, 15.074148178100586, 15.07194709777832, 15.069787979125977, 15.067631721496582, 15.065508842468262, 15.06340503692627, 15.061320304870605, 15.059270858764648, 15.057229995727539]}\n"
          ]
        }
      ],
      "source": [
        "print(x.history)"
      ]
    },
    {
      "cell_type": "code",
      "execution_count": null,
      "metadata": {
        "id": "RzKP5XOqDfiE",
        "outputId": "76a86d34-4294-46b9-d7bf-63c4e5c44556",
        "colab": {
          "base_uri": "https://localhost:8080/",
          "height": 447
        }
      },
      "outputs": [
        {
          "output_type": "execute_result",
          "data": {
            "text/plain": [
              "<Axes: >"
            ]
          },
          "metadata": {},
          "execution_count": 20
        },
        {
          "output_type": "display_data",
          "data": {
            "text/plain": [
              "<Figure size 640x480 with 1 Axes>"
            ],
            "image/png": "[encoded data removed]"
          },
          "metadata": {}
        }
      ],
      "source": [
        "import seaborn as sns\n",
        "sns.lineplot(data=x.history['loss'])"
      ]
    },
    {
      "cell_type": "code",
      "source": [
        "import numpy as np\n",
        "\n",
        "# Convert input to a NumPy array\n",
        "x_input = np.array([[10]])\n",
        "\n",
        "# Predict using the trained model\n",
        "predicted_price = model.predict(x_input)\n",
        "\n",
        "print(f\"Predicted Price: ${predicted_price[0][0] * 1000:.2f}\")\n"
      ],
      "metadata": {
        "colab": {
          "base_uri": "https://localhost:8080/"
        },
        "id": "ZeyhlfpKFn7n",
        "outputId": "e384066c-1604-4f54-fdd1-9b65896cffcf"
      },
      "execution_count": null,
      "outputs": [
        {
          "output_type": "stream",
          "name": "stdout",
          "text": [
            "\u001b[1m1/1\u001b[0m \u001b[32m━━━━━━━━━━━━━━━━━━━━\u001b[0m\u001b[37m\u001b[0m \u001b[1m0s\u001b[0m 68ms/step\n",
            "Predicted Price: $66130.94\n"
          ]
        }
      ]
    },
    {
      "cell_type": "markdown",
      "metadata": {
        "id": "btF2CSFH2iEX"
      },
      "source": [
        "You might have thought 65, right? But it ended up being a little over. Why do you think that is?\n",
        "\n",
        "Remember that neural networks deal with probabilities, so given the data that we fed the NN with, it calculated that there is a very high probability that the relationship between X and Y is Y = 5.12 * x + 14.45, but with only 10 data points we can't know for sure. As a result, the result for 10 is very close to 65, but not necessarily 65.\n",
        "\n",
        "As you work with neural networks, you'll see this pattern recurring. You will almost always deal with probabilities, not certainties, and will do a little bit of coding to figure out what the result is based on the probabilities, particularly when it comes to classification.\n"
      ]
    },
    {
      "cell_type": "markdown",
      "source": [
        "#  Housing Dataset and Building Model 1 and Model 2"
      ],
      "metadata": {
        "id": "KpAQoilpJ_9J"
      }
    },
    {
      "cell_type": "code",
      "source": [
        "import numpy as np\n",
        "import tensorflow as tf\n",
        "from tensorflow import keras\n",
        "import matplotlib.pyplot as plt\n",
        "\n",
        "# Define the dataset\n",
        "x1 = np.array([55, 75, 55.5, 65, 55, 75, 1.5, 3, 1.75, 1, 3.1, 1.6])\n",
        "x2 = np.array([51, 55.5, 49, 61.5, 45, 65, 4, 5, 0.65, 2, 2.3, 2])\n",
        "y = np.array([250, 450, 300, 450, 385, 210, 380, 600, 450, 325, 424, 285])\n",
        "\n",
        "#  Normalize the data to scale between 0 and 1\n",
        "x1_norm = (x1 - x1.min()) / (x1.max() - x1.min())\n",
        "x2_norm = (x2 - x2.min()) / (x2.max() - x2.min())\n",
        "y_norm = y / 1000\n"
      ],
      "metadata": {
        "id": "N8gngJ8WJJ6X"
      },
      "execution_count": null,
      "outputs": []
    },
    {
      "cell_type": "code",
      "source": [
        "# Model 1: Distance Based Price Prediction\n",
        "model1 = tf.keras.Sequential([\n",
        "    keras.layers.Dense(units=1, input_shape=[1])\n",
        "])\n",
        "\n",
        "# Compile the model with a lower learning rate\n",
        "model1.compile(optimizer=tf.keras.optimizers.SGD(learning_rate=0.01), loss='mean_squared_error')\n",
        "\n",
        "# Train using the normalized X1\n",
        "model1.fit(x1_norm, y_norm, epochs=500, verbose=0)\n"
      ],
      "metadata": {
        "colab": {
          "base_uri": "https://localhost:8080/"
        },
        "id": "yiJ55O1eJpjL",
        "outputId": "371e985d-9ba8-42fb-f2d2-22d7950ebf52"
      },
      "execution_count": null,
      "outputs": [
        {
          "output_type": "stream",
          "name": "stderr",
          "text": [
            "/usr/local/lib/python3.11/dist-packages/keras/src/layers/core/dense.py:87: UserWarning: Do not pass an `input_shape`/`input_dim` argument to a layer. When using Sequential models, prefer using an `Input(shape)` object as the first layer in the model instead.\n",
            "  super().__init__(activity_regularizer=activity_regularizer, **kwargs)\n"
          ]
        },
        {
          "output_type": "execute_result",
          "data": {
            "text/plain": [
              "<keras.src.callbacks.history.History at 0x7b1e1dac8450>"
            ]
          },
          "metadata": {},
          "execution_count": 23
        }
      ]
    },
    {
      "cell_type": "code",
      "source": [
        "# Model 2: Size-Based Price Prediction\n",
        "model2 = tf.keras.Sequential([\n",
        "    keras.layers.Dense(units=1, input_shape=[1])\n",
        "])\n",
        "\n",
        "# Compile the model with the same learning rate\n",
        "model2.compile(optimizer=tf.keras.optimizers.SGD(learning_rate=0.01), loss='mean_squared_error')\n",
        "\n",
        "# Train using the normalized X2\n",
        "model2.fit(x2_norm, y_norm, epochs=500, verbose=0)\n"
      ],
      "metadata": {
        "colab": {
          "base_uri": "https://localhost:8080/"
        },
        "id": "tSWzmqLsKfK4",
        "outputId": "71b9a4b7-00ed-4e73-fed6-9dae95b72b3b"
      },
      "execution_count": null,
      "outputs": [
        {
          "output_type": "execute_result",
          "data": {
            "text/plain": [
              "<keras.src.callbacks.history.History at 0x7b1e1d79cb90>"
            ]
          },
          "metadata": {},
          "execution_count": 24
        }
      ]
    },
    {
      "cell_type": "markdown",
      "source": [
        "# Predict price on distance from downtown"
      ],
      "metadata": {
        "id": "oZDG5KuZGkZt"
      }
    },
    {
      "cell_type": "code",
      "source": [
        "\n",
        "# Define new distances (normalize them before prediction)\n",
        "new_distances = np.array([10, 20, 30, 40, 50])\n",
        "new_distances_norm = (new_distances - x1.min()) / (x1.max() - x1.min())\n",
        "\n",
        "# Predict using model1\n",
        "pred_prices_x1 = model1.predict(new_distances_norm) * 1000\n",
        "\n",
        "# Display results\n",
        "print(\"\\nPredictions based on Distance from Downtown:\")\n",
        "for i, dist in enumerate(new_distances):\n",
        "    print(f\"Predicted price for an apartment {dist} km from downtown: ${pred_prices_x1[i][0]:.2f}\")\n"
      ],
      "metadata": {
        "colab": {
          "base_uri": "https://localhost:8080/"
        },
        "id": "LXBm5Ol8GeMF",
        "outputId": "05cfe907-a702-46fd-a45f-f1e69b4479b9"
      },
      "execution_count": null,
      "outputs": [
        {
          "output_type": "stream",
          "name": "stdout",
          "text": [
            "\u001b[1m1/1\u001b[0m \u001b[32m━━━━━━━━━━━━━━━━━━━━\u001b[0m\u001b[37m\u001b[0m \u001b[1m0s\u001b[0m 60ms/step\n",
            "\n",
            "Predictions based on Distance from Downtown:\n",
            "Predicted price for an apartment 10 km from downtown: $449.15\n",
            "Predicted price for an apartment 20 km from downtown: $421.15\n",
            "Predicted price for an apartment 30 km from downtown: $393.16\n",
            "Predicted price for an apartment 40 km from downtown: $365.17\n",
            "Predicted price for an apartment 50 km from downtown: $337.18\n"
          ]
        }
      ]
    },
    {
      "cell_type": "markdown",
      "source": [
        "# Predict price based on the size of the apartment"
      ],
      "metadata": {
        "id": "8BgjVGjBHEK8"
      }
    },
    {
      "cell_type": "code",
      "source": [
        "# Define new apartment sizes (normalize them before prediction)\n",
        "new_sizes = np.array([500, 750, 1000, 1250, 1500])\n",
        "new_sizes_norm = (new_sizes - x2.min()) / (x2.max() - x2.min())\n",
        "\n",
        "# Predict using model2\n",
        "pred_prices_x2 = model2.predict(new_sizes_norm) * 1000\n",
        "\n",
        "# Display results\n",
        "print(\"\\nPredictions based on Apartment Size:\")\n",
        "for i, size in enumerate(new_sizes):\n",
        "    print(f\"Predicted price for an apartment of {size} sq. ft.: ${pred_prices_x2[i][0]:.2f}\")\n"
      ],
      "metadata": {
        "colab": {
          "base_uri": "https://localhost:8080/"
        },
        "id": "EJxHVxVrHEgk",
        "outputId": "8a45658d-f6b3-4ecc-8a0b-0a8f0744d7ef"
      },
      "execution_count": null,
      "outputs": [
        {
          "output_type": "stream",
          "name": "stderr",
          "text": [
            "WARNING:tensorflow:5 out of the last 5 calls to <function TensorFlowTrainer.make_predict_function.<locals>.one_step_on_data_distributed at 0x7b1e1d64ede0> triggered tf.function retracing. Tracing is expensive and the excessive number of tracings could be due to (1) creating @tf.function repeatedly in a loop, (2) passing tensors with different shapes, (3) passing Python objects instead of tensors. For (1), please define your @tf.function outside of the loop. For (2), @tf.function has reduce_retracing=True option that can avoid unnecessary retracing. For (3), please refer to https://www.tensorflow.org/guide/function#controlling_retracing and https://www.tensorflow.org/api_docs/python/tf/function for  more details.\n"
          ]
        },
        {
          "output_type": "stream",
          "name": "stdout",
          "text": [
            "\u001b[1m1/1\u001b[0m \u001b[32m━━━━━━━━━━━━━━━━━━━━\u001b[0m\u001b[37m\u001b[0m \u001b[1m0s\u001b[0m 64ms/step\n",
            "\n",
            "Predictions based on Apartment Size:\n",
            "Predicted price for an apartment of 500 sq. ft.: $2607.52\n",
            "Predicted price for an apartment of 750 sq. ft.: $3805.49\n",
            "Predicted price for an apartment of 1000 sq. ft.: $5003.47\n",
            "Predicted price for an apartment of 1250 sq. ft.: $6201.44\n",
            "Predicted price for an apartment of 1500 sq. ft.: $7399.42\n"
          ]
        }
      ]
    },
    {
      "cell_type": "markdown",
      "source": [
        "# Build & Train a Model That Uses Both Features"
      ],
      "metadata": {
        "id": "CYop9Z6jLZk6"
      }
    },
    {
      "cell_type": "code",
      "source": [
        "import numpy as np\n",
        "import tensorflow as tf\n",
        "from tensorflow import keras\n",
        "import matplotlib.pyplot as plt\n",
        "\n",
        "# Define the dataset\n",
        "x1 = np.array([55, 75, 55.5, 65, 55, 75, 1.5, 3, 1.75, 1, 3.1, 1.6])\n",
        "x2 = np.array([51, 55.5, 49, 61.5, 45, 65, 4, 5, 0.65, 2, 2.3, 2])\n",
        "y = np.array([250, 450, 300, 450, 385, 210, 380, 600, 450, 325, 424, 285])\n",
        "\n",
        "# Normalize both inputs (scale to 0-1 range)\n",
        "x1_norm = (x1 - x1.min()) / (x1.max() - x1.min())\n",
        "x2_norm = (x2 - x2.min()) / (x2.max() - x2.min())\n",
        "y_norm = y / 1000\n",
        "\n",
        "# Combine X1 and X2 into one input array\n",
        "X_combined = np.column_stack((x1_norm, x2_norm))\n"
      ],
      "metadata": {
        "id": "n3hiB6pWLd3M"
      },
      "execution_count": null,
      "outputs": []
    },
    {
      "cell_type": "code",
      "source": [
        "# Create a model with 2 input features\n",
        "model_combined = tf.keras.Sequential([\n",
        "    keras.layers.Dense(units=1, input_shape=[2])\n",
        "])\n",
        "\n",
        "# Compile the model\n",
        "model_combined.compile(optimizer=tf.keras.optimizers.SGD(learning_rate=0.01), loss='mean_squared_error')\n",
        "\n",
        "# Train using both distance and size\n",
        "model_combined.fit(X_combined, y_norm, epochs=500, verbose=0)\n"
      ],
      "metadata": {
        "colab": {
          "base_uri": "https://localhost:8080/"
        },
        "id": "ZDrDVhw1LoaW",
        "outputId": "5247d7c8-6630-4b90-9b59-8991466b4aed"
      },
      "execution_count": null,
      "outputs": [
        {
          "output_type": "execute_result",
          "data": {
            "text/plain": [
              "<keras.src.callbacks.history.History at 0x7b1e1d9637d0>"
            ]
          },
          "metadata": {},
          "execution_count": 28
        }
      ]
    },
    {
      "cell_type": "markdown",
      "source": [
        "# Predict Prices Using Both Distance & Size"
      ],
      "metadata": {
        "id": "402_Ys_WL2WS"
      }
    },
    {
      "cell_type": "code",
      "source": [
        "# Define new test apartments (both distance & size)\n",
        "new_apartments = np.array([\n",
        "    [10, 500],\n",
        "    [9.5, 750],\n",
        "    [7.5, 1000],\n",
        "    [11, 1250],\n",
        "    [12.2, 1500]\n",
        "])\n",
        "\n",
        "# Normalize new test values before prediction\n",
        "new_apartments[:, 0] = (new_apartments[:, 0] - x1.min()) / (x1.max() - x1.min())\n",
        "new_apartments[:, 1] = (new_apartments[:, 1] - x2.min()) / (x2.max() - x2.min())\n",
        "\n",
        "# Predict prices using the combined model\n",
        "pred_prices_combined = model_combined.predict(new_apartments) * 1000\n",
        "\n",
        "# Display predictions\n",
        "print(\"\\nPredictions using both Distance & Size:\")\n",
        "for i, (dist, size) in enumerate(zip(new_apartments[:, 0], new_apartments[:, 1])):\n",
        "    print(f\"Predicted price for an apartment {dist*100:.1f}% from downtown & {size*100:.1f}% size: ${pred_prices_combined[i][0]:.2f}\")\n"
      ],
      "metadata": {
        "colab": {
          "base_uri": "https://localhost:8080/"
        },
        "id": "dwzmEZcWLuKv",
        "outputId": "aba29266-1ce7-4192-9fe5-3e16030c0e16"
      },
      "execution_count": null,
      "outputs": [
        {
          "output_type": "stream",
          "name": "stderr",
          "text": [
            "WARNING:tensorflow:6 out of the last 6 calls to <function TensorFlowTrainer.make_predict_function.<locals>.one_step_on_data_distributed at 0x7b1e1d6ab4c0> triggered tf.function retracing. Tracing is expensive and the excessive number of tracings could be due to (1) creating @tf.function repeatedly in a loop, (2) passing tensors with different shapes, (3) passing Python objects instead of tensors. For (1), please define your @tf.function outside of the loop. For (2), @tf.function has reduce_retracing=True option that can avoid unnecessary retracing. For (3), please refer to https://www.tensorflow.org/guide/function#controlling_retracing and https://www.tensorflow.org/api_docs/python/tf/function for  more details.\n"
          ]
        },
        {
          "output_type": "stream",
          "name": "stdout",
          "text": [
            "\u001b[1m1/1\u001b[0m \u001b[32m━━━━━━━━━━━━━━━━━━━━\u001b[0m\u001b[37m\u001b[0m \u001b[1m0s\u001b[0m 59ms/step\n",
            "\n",
            "Predictions using both Distance & Size:\n",
            "Predicted price for an apartment 12.2% from downtown & 776.0% size: $5548.66\n",
            "Predicted price for an apartment 11.5% from downtown & 1164.5% size: $8170.36\n",
            "Predicted price for an apartment 8.8% from downtown & 1553.0% size: $10807.55\n",
            "Predicted price for an apartment 13.5% from downtown & 1941.5% size: $13387.96\n",
            "Predicted price for an apartment 15.1% from downtown & 2330.0% size: $15992.11\n"
          ]
        }
      ]
    }
  ],
  "metadata": {
    "colab": {
      "provenance": [],
      "toc_visible": true,
      "include_colab_link": true
    },
    "kernelspec": {
      "display_name": "Python 3 (ipykernel)",
      "language": "python",
      "name": "python3"
    },
    "language_info": {
      "codemirror_mode": {
        "name": "ipython",
        "version": 3
      },
      "file_extension": ".py",
      "mimetype": "text/x-python",
      "name": "python",
      "nbconvert_exporter": "python",
      "pygments_lexer": "ipython3",
      "version": "3.10.11"
    }
  },
  "nbformat": 4,
  "nbformat_minor": 0
}