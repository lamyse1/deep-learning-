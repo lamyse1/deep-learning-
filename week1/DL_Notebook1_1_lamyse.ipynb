{
  "cells": [
    {
      "cell_type": "markdown",
      "metadata": {
        "id": "view-in-github",
        "colab_type": "text"
      },
      "source": [
        "<a href=\"https://colab.research.google.com/github/lamyse1/deep-learning-/blob/main/week1/DL_Notebook1_1_lamyse.ipynb\" target=\"_parent\"><img src=\"https://colab.research.google.com/assets/colab-badge.svg\" alt=\"Open In Colab\"/></a>"
      ]
    },
    {
      "cell_type": "markdown",
      "metadata": {
        "jp-MarkdownHeadingCollapsed": true,
        "id": "D7ia5_Y4Dfh4"
      },
      "source": [
        "\n",
        "# AAI612: Deep Learning & its Applications\n",
        "\n",
        "*Notebook 1.1: Using the perceptron for linear fitting*\n",
        "\n"
      ]
    },
    {
      "cell_type": "markdown",
      "metadata": {
        "id": "ZIAkIlfmCe1B"
      },
      "source": [
        "Notebook 1.1"
      ]
    },
    {
      "cell_type": "markdown",
      "metadata": {
        "id": "fA93WUy1zzWf"
      },
      "source": [
        "In this notebook, we will perform linear regression using a single neuron.  We will be using `TensorFlow` and `Keras`; however, do not worry about the details of the language for the moment as we will get back to these later on.\n",
        "\n",
        "The simple mode we will be looking at will learn the relationship between two numbers and will be used to predict other numbers. For example, if you were writing code for a function like this:\n",
        "\n",
        "\n",
        "```\n",
        "y = mx + b\n",
        "```\n",
        "\n",
        "How would you train a neural network to do the equivalent task? Well, we said using data, a lot of data! The approach is to feed the model with a set of Xs, and a set of Ys, it should be able to figure out the relationship between them."
      ]
    },
    {
      "cell_type": "markdown",
      "metadata": {
        "id": "APB60nCADfh7"
      },
      "source": [
        "# Linear Regression"
      ]
    },
    {
      "cell_type": "markdown",
      "metadata": {
        "id": "zRPziYwyDfh8"
      },
      "source": [
        "Let us start by linear regression.   Assume we have the following simple dataset.  We can easily fit using `polyfit():`"
      ]
    },
    {
      "cell_type": "code",
      "execution_count": 1,
      "metadata": {
        "id": "S-OUY9AaDfh8"
      },
      "outputs": [],
      "source": [
        "from numpy.polynomial.polynomial import polyfit\n",
        "import matplotlib.pyplot as plt\n",
        "import numpy as np\n",
        "\n",
        "\n",
        "x = np.array([ 0,  1,  2,  3,  4,  5,  6,  7,  8,  9])\n",
        "y = np.array([10, 20, 25, 30, 40, 45, 40, 50, 60, 55])"
      ]
    },
    {
      "cell_type": "markdown",
      "metadata": {
        "id": "h6aWi2F-Dfh9"
      },
      "source": [
        "Let us explore the data!"
      ]
    },
    {
      "cell_type": "code",
      "execution_count": 2,
      "metadata": {
        "id": "08XpghK6Dfh-",
        "outputId": "87bfc043-dc31-4838-fc2e-514810bdc844",
        "colab": {
          "base_uri": "https://localhost:8080/",
          "height": 430
        }
      },
      "outputs": [
        {
          "output_type": "display_data",
          "data": {
            "text/plain": [
              "<Figure size 640x480 with 1 Axes>"
            ],
            "image/png": "[encoded data removed]"
          },
          "metadata": {}
        }
      ],
      "source": [
        "plt.plot(x, y, '.')\n",
        "plt.show()"
      ]
    },
    {
      "cell_type": "markdown",
      "metadata": {
        "id": "mk06xpYiDfh_"
      },
      "source": [
        "Now, let us see how we can best fit this data using the `polyfit`:"
      ]
    },
    {
      "cell_type": "code",
      "execution_count": 3,
      "metadata": {
        "id": "ldC-rkxdDfiA"
      },
      "outputs": [],
      "source": [
        "b, m = polyfit(x,y,1)\n",
        "\n",
        "y_hat = m*x+b"
      ]
    },
    {
      "cell_type": "markdown",
      "metadata": {
        "id": "-E_Ie5SuDfiA"
      },
      "source": [
        "The above data fit results with the following equation:"
      ]
    },
    {
      "cell_type": "code",
      "execution_count": 4,
      "metadata": {
        "id": "r0t--9UPDfiA",
        "colab": {
          "base_uri": "https://localhost:8080/"
        },
        "outputId": "287cfecc-4856-4a29-b584-3da039fc617d"
      },
      "outputs": [
        {
          "output_type": "stream",
          "name": "stdout",
          "text": [
            "Equation that best fits the data is: Y = 5.12 * x + 14.45\n"
          ]
        }
      ],
      "source": [
        "print(\"Equation that best fits the data is: Y = %2.2f * x + %5.2f\" % (m,b))"
      ]
    },
    {
      "cell_type": "markdown",
      "metadata": {
        "id": "KPgmve2ODfiA"
      },
      "source": [
        "and now, let us see how it fits visually:"
      ]
    },
    {
      "cell_type": "code",
      "execution_count": 5,
      "metadata": {
        "id": "8GTLzSwCDfiB",
        "outputId": "c7ae98e2-745b-4401-d8e8-7011daa79793",
        "colab": {
          "base_uri": "https://localhost:8080/",
          "height": 430
        }
      },
      "outputs": [
        {
          "output_type": "display_data",
          "data": {
            "text/plain": [
              "<Figure size 640x480 with 1 Axes>"
            ],
            "image/png": "[encoded data removed]"
          },
          "metadata": {}
        }
      ],
      "source": [
        "plt.plot(x, y, '.')\n",
        "plt.plot(x, y_hat, '-')\n",
        "plt.show()"
      ]
    },
    {
      "cell_type": "markdown",
      "metadata": {
        "id": "lZS6kgivDfiB"
      },
      "source": [
        "Let us predict y for x = 10"
      ]
    },
    {
      "cell_type": "code",
      "execution_count": 6,
      "metadata": {
        "id": "FYk1NefsDfiB",
        "outputId": "97059067-d398-4fde-e77b-d4f8d251956f",
        "colab": {
          "base_uri": "https://localhost:8080/"
        }
      },
      "outputs": [
        {
          "output_type": "stream",
          "name": "stdout",
          "text": [
            "65.66666666666664\n"
          ]
        }
      ],
      "source": [
        "x = 10\n",
        "print(m*x+b)"
      ]
    },
    {
      "cell_type": "markdown",
      "metadata": {
        "id": "g3MJOWdgDfiB"
      },
      "source": [
        "Now, let us try this all over again using one neuron.  We will be using `Keras` and `TesnorFlow`."
      ]
    },
    {
      "cell_type": "markdown",
      "metadata": {
        "id": "DzbtdRcZDO9B"
      },
      "source": [
        "## Imports\n",
        "\n",
        "Let's start with our imports. Here we are importing 'TensorFlow' and calling it tf for ease of use.  We do of course need to import `numpy`, which helps us to represent our data as lists easily and quickly.  Finally, the framework for defining a neural network as a set of Sequential layers is called keras, so we import that too."
      ]
    },
    {
      "cell_type": "code",
      "execution_count": 19,
      "metadata": {
        "id": "X9uIpOS2zx7k",
        "outputId": "643e691d-0e6d-4e25-c358-630683da8e4a",
        "colab": {
          "base_uri": "https://localhost:8080/"
        }
      },
      "outputs": [
        {
          "output_type": "stream",
          "name": "stdout",
          "text": [
            "2.18.0\n"
          ]
        }
      ],
      "source": [
        "import tensorflow as tf\n",
        "import numpy as np\n",
        "from tensorflow import keras\n",
        "\n",
        "print(tf.__version__)"
      ]
    },
    {
      "cell_type": "markdown",
      "metadata": {
        "id": "wwJGmDrQ0EoB"
      },
      "source": [
        "## Define and Compile the Neural Network\n",
        "\n",
        "Next we will create the simplest possible neural network. It has 1 layer, and that layer has 1 neuron, and the input shape to it is just 1 value."
      ]
    },
    {
      "cell_type": "code",
      "execution_count": 8,
      "metadata": {
        "id": "kQFAr_xo0M4T",
        "colab": {
          "base_uri": "https://localhost:8080/"
        },
        "outputId": "c3399b1e-e254-4214-a4ba-65cc62a8a0cc"
      },
      "outputs": [
        {
          "output_type": "stream",
          "name": "stderr",
          "text": [
            "/usr/local/lib/python3.11/dist-packages/keras/src/layers/core/dense.py:87: UserWarning: Do not pass an `input_shape`/`input_dim` argument to a layer. When using Sequential models, prefer using an `Input(shape)` object as the first layer in the model instead.\n",
            "  super().__init__(activity_regularizer=activity_regularizer, **kwargs)\n"
          ]
        }
      ],
      "source": [
        "model = tf.keras.Sequential([keras.layers.Dense(units=1, input_shape=[1])])"
      ]
    },
    {
      "cell_type": "markdown",
      "metadata": {
        "id": "KhjZjZ-c0Ok9"
      },
      "source": [
        "Now we compile our Neural Network. When we do so, we have to specify 2 functions, a loss and an optimizer.\n",
        "\n",
        "If you've seen lots of math for machine learning, here's where it's usually used, but in this case it's nicely encapsulated in functions for you. But what happens here — let's explain...\n",
        "\n",
        "We know that in our function, the relationship between the numbers is Y = 5.12 * x + 14.45.\n",
        "\n",
        "When the computer is trying to 'learn' that, it makes a guess...maybe y=10x+10. The LOSS function measures the guessed answers against the known correct answers and measures how well or how badly it did.\n",
        "\n",
        "It then uses the OPTIMIZER function to make another guess. Based on how the loss function went, it will try to minimize the loss. At that point maybe it will come up with somehting like y=5x+5, which, while still pretty bad, is closer to the correct result (i.e. the loss is lower)\n",
        "\n",
        "It will repeat this for the number of EPOCHS which you will see shortly. But first, here's how we tell it to use 'MEAN SQUARED ERROR' for the loss and 'STOCHASTIC GRADIENT DESCENT' for the optimizer. You don't need to understand the math for these yet, but you can see that they work! :)\n",
        "\n",
        "Over time you will learn the different and appropriate loss and optimizer functions for different scenarios.\n"
      ]
    },
    {
      "cell_type": "code",
      "execution_count": 9,
      "metadata": {
        "id": "m8YQN1H41L-Y"
      },
      "outputs": [],
      "source": [
        "model.compile(optimizer='sgd', loss='mean_squared_error')"
      ]
    },
    {
      "cell_type": "markdown",
      "metadata": {
        "id": "5QyOUhFw1OUX"
      },
      "source": [
        "## Providing the Data\n",
        "\n",
        "Next up we'll feed in some data. In this case we are taking 6 xs and 6ys. You can see that the relationship between these is that y=2x-1, so where x = -1, y=-3 etc. etc.\n",
        "\n",
        "A python library called 'Numpy' provides lots of array type data structures that are a defacto standard way of doing it. We declare that we want to use these by specifying the values as an np.array[]"
      ]
    },
    {
      "cell_type": "markdown",
      "metadata": {
        "id": "ejM9OX5yDfiD"
      },
      "source": [
        "### Let us try this dataset!"
      ]
    },
    {
      "cell_type": "markdown",
      "metadata": {
        "id": "sVcgqCvIDfiD"
      },
      "source": [
        "Comment the above data set and try this one now:"
      ]
    },
    {
      "cell_type": "code",
      "execution_count": 10,
      "metadata": {
        "id": "JaVPda44DfiD"
      },
      "outputs": [],
      "source": [
        "xs = np.array([ 0,  1,  2,  3,  4,  5,  6,  7,  8,  9])\n",
        "ys = np.array([10, 20, 25, 30, 40, 45, 40, 50, 60, 55])"
      ]
    },
    {
      "cell_type": "markdown",
      "metadata": {
        "id": "n_YcWRElnM_b"
      },
      "source": [
        "# Training the Neural Network"
      ]
    },
    {
      "cell_type": "markdown",
      "metadata": {
        "id": "c-Jk4dG91dvD"
      },
      "source": [
        "The process of training the neural network, where it 'learns' the relationship between the Xs and Ys is in the **model.fit**  call. This is where it will go through the loop we spoke about above, making a guess, measuring how good or bad it is (aka the loss), using the opimizer to make another guess etc. It will do it for the number of epochs you specify. When you run this code, you'll see the loss on the right hand side."
      ]
    },
    {
      "cell_type": "code",
      "execution_count": 11,
      "metadata": {
        "id": "lpRrl7WK10Pq"
      },
      "outputs": [],
      "source": [
        "from keras.callbacks import History\n",
        "history = History()\n",
        "\n",
        "x = model.fit(xs, ys, epochs=500, callbacks=[history], verbose=0)"
      ]
    },
    {
      "cell_type": "markdown",
      "metadata": {
        "id": "kaFIr71H2OZ-"
      },
      "source": [
        "Ok, that we have a model that we have trained to learn the relationship between X and Y, we can use the **model.predict** method to have it figure out the Y for a previously unknown X. So, for example, if X = 2, what do you think Y will be? Take a guess before you run this code:"
      ]
    },
    {
      "cell_type": "code",
      "execution_count": 12,
      "metadata": {
        "id": "pfWIeBzjDfiE",
        "outputId": "64288d8c-84e9-40bf-a197-468a875d2765",
        "colab": {
          "base_uri": "https://localhost:8080/"
        }
      },
      "outputs": [
        {
          "output_type": "stream",
          "name": "stdout",
          "text": [
            "{'loss': [1574.6353759765625, 326.28338623046875, 110.14253997802734, 72.33445739746094, 65.34089660644531, 63.676124572753906, 62.93711471557617, 62.363121032714844, 61.822669982910156, 61.2929801940918, 60.77006149291992, 60.25318145751953, 59.742149353027344, 59.236854553222656, 58.73726272583008, 58.243309020996094, 57.754913330078125, 57.272010803222656, 56.7945556640625, 56.32246017456055, 55.85570526123047, 55.394195556640625, 54.93788528442383, 54.486717224121094, 54.040611267089844, 53.59955978393555, 53.16345977783203, 52.732261657714844, 52.305931091308594, 51.88440704345703, 51.467628479003906, 51.05553436279297, 50.6480827331543, 50.24522018432617, 49.84691619873047, 49.45307540893555, 49.06367492675781, 48.678672790527344, 48.297996520996094, 47.921600341796875, 47.54945373535156, 47.181488037109375, 46.81768035888672, 46.457969665527344, 46.102298736572266, 45.75062942504883, 45.40294647216797, 45.05916213989258, 44.71924591064453, 44.383155822753906, 44.050865173339844, 43.722312927246094, 43.3974494934082, 43.076255798339844, 42.75869369506836, 42.4446907043457, 42.13421630859375, 41.8272590637207, 41.52373504638672, 41.22364044189453, 40.92693328857422, 40.63356018066406, 40.34349822998047, 40.05668258666992, 39.77312469482422, 39.49274444580078, 39.21552276611328, 38.9414176940918, 38.67042922973633, 38.4024543762207, 38.13751983642578, 37.87556838989258, 37.61656188964844, 37.36048126220703, 37.107261657714844, 36.8569221496582, 36.60938262939453, 36.36463928222656, 36.122650146484375, 35.883384704589844, 35.646820068359375, 35.41291427612305, 35.18164825439453, 34.952980041503906, 34.726905822753906, 34.50335693359375, 34.282325744628906, 34.06379318237305, 33.84772872924805, 33.63408660888672, 33.422855377197266, 33.21399688720703, 33.00748825073242, 32.803321838378906, 32.6014404296875, 32.40183639526367, 32.2044792175293, 32.009342193603516, 31.81640625, 31.62565040588379, 31.437023162841797, 31.250534057617188, 31.066152572631836, 30.883834838867188, 30.703582763671875, 30.525348663330078, 30.3491268157959, 30.174890518188477, 30.00261878967285, 29.832271575927734, 29.663860321044922, 29.497339248657227, 29.332706451416016, 29.169912338256836, 29.008956909179688, 28.849811553955078, 28.692459106445312, 28.536890029907227, 28.383052825927734, 28.230960845947266, 28.080591201782227, 27.931900024414062, 27.78487777709961, 27.639530181884766, 27.495807647705078, 27.35369873046875, 27.21320152282715, 27.07428550720215, 26.93692398071289, 26.801128387451172, 26.66684913635254, 26.53408432006836, 26.402812957763672, 26.273021697998047, 26.144695281982422, 26.017810821533203, 25.892353057861328, 25.768314361572266, 25.645666122436523, 25.524396896362305, 25.404508590698242, 25.285961151123047, 25.168743133544922, 25.052846908569336, 24.938268661499023, 24.824975967407227, 24.712955474853516, 24.60219955444336, 24.49268341064453, 24.3844051361084, 24.277339935302734, 24.17149543762207, 24.06683921813965, 23.963346481323242, 23.86104393005371, 23.759870529174805, 23.659847259521484, 23.56094741821289, 23.463165283203125, 23.366485595703125, 23.270893096923828, 23.176376342773438, 23.082918167114258, 22.990520477294922, 22.899160385131836, 22.808828353881836, 22.71951675415039, 22.631200790405273, 22.54388999938965, 22.45755958557129, 22.372207641601562, 22.28780746459961, 22.20436668395996, 22.12186050415039, 22.040283203125, 21.959625244140625, 21.879873275756836, 21.801021575927734, 21.723068237304688, 21.645973205566406, 21.56975746154785, 21.4943904876709, 21.41988754272461, 21.346221923828125, 21.27337646484375, 21.20136070251465, 21.13014793395996, 21.059741973876953, 20.990131378173828, 20.92129898071289, 20.853246688842773, 20.785961151123047, 20.719432830810547, 20.65364646911621, 20.588603973388672, 20.524295806884766, 20.460718154907227, 20.397846221923828, 20.335681915283203, 20.274232864379883, 20.213457107543945, 20.153377532958984, 20.09397315979004, 20.03524398803711, 19.977157592773438, 19.919742584228516, 19.86296844482422, 19.806827545166016, 19.751333236694336, 19.696453094482422, 19.642202377319336, 19.58854103088379, 19.53550148010254, 19.48305320739746, 19.431194305419922, 19.37991714477539, 19.329233169555664, 19.279102325439453, 19.229541778564453, 19.180540084838867, 19.132091522216797, 19.08419418334961, 19.036815643310547, 18.989994049072266, 18.94369125366211, 18.897911071777344, 18.852649688720703, 18.807884216308594, 18.763635635375977, 18.71987533569336, 18.676620483398438, 18.633853912353516, 18.591552734375, 18.54973793029785, 18.50838851928711, 18.467517852783203, 18.427104949951172, 18.387128829956055, 18.347618103027344, 18.308544158935547, 18.269916534423828, 18.231727600097656, 18.193967819213867, 18.156625747680664, 18.119701385498047, 18.083206176757812, 18.047115325927734, 18.011438369750977, 17.976150512695312, 17.941272735595703, 17.90677833557129, 17.872676849365234, 17.838953018188477, 17.805620193481445, 17.772653579711914, 17.740070343017578, 17.707828521728516, 17.675968170166016, 17.64447021484375, 17.613319396972656, 17.582523345947266, 17.55207061767578, 17.521955490112305, 17.49219512939453, 17.46275520324707, 17.433658599853516, 17.404882431030273, 17.37643051147461, 17.348302841186523, 17.32048225402832, 17.292984008789062, 17.265790939331055, 17.238920211791992, 17.212337493896484, 17.186046600341797, 17.160066604614258, 17.134366989135742, 17.108966827392578, 17.083858489990234, 17.059017181396484, 17.03445816040039, 17.010183334350586, 16.98617172241211, 16.962432861328125, 16.938974380493164, 16.915767669677734, 16.892826080322266, 16.870149612426758, 16.847715377807617, 16.825542449951172, 16.803613662719727, 16.781940460205078, 16.760501861572266, 16.73931312561035, 16.71834945678711, 16.697635650634766, 16.677143096923828, 16.65688705444336, 16.63686752319336, 16.617061614990234, 16.59749412536621, 16.5781307220459, 16.55899429321289, 16.54007339477539, 16.521358489990234, 16.502857208251953, 16.48456573486328, 16.466487884521484, 16.4486026763916, 16.43092155456543, 16.413434982299805, 16.396154403686523, 16.37906837463379, 16.362173080444336, 16.345460891723633, 16.328947067260742, 16.312610626220703, 16.296459197998047, 16.280498504638672, 16.264713287353516, 16.249103546142578, 16.23366928100586, 16.218408584594727, 16.203323364257812, 16.18840217590332, 16.173654556274414, 16.159069061279297, 16.144649505615234, 16.13039207458496, 16.116291046142578, 16.102352142333984, 16.088579177856445, 16.074953079223633, 16.061485290527344, 16.048160552978516, 16.034990310668945, 16.021976470947266, 16.00909423828125, 15.996365547180176, 15.98377799987793, 15.971331596374512, 15.959025382995605, 15.946856498718262, 15.934829711914062, 15.922941207885742, 15.911175727844238, 15.89954662322998, 15.888051986694336, 15.876686096191406, 15.865447998046875, 15.854331970214844, 15.843347549438477, 15.832486152648926, 15.821749687194824, 15.811120986938477, 15.800622940063477, 15.790239334106445, 15.779970169067383, 15.769828796386719, 15.759793281555176, 15.749865531921387, 15.740056037902832, 15.73035717010498, 15.720766067504883, 15.711283683776855, 15.701911926269531, 15.692642211914062, 15.68346881866455, 15.674403190612793, 15.665456771850586, 15.656590461730957, 15.6478271484375, 15.63916301727295, 15.630605697631836, 15.62213134765625, 15.613757133483887, 15.60548210144043, 15.597299575805664, 15.589202880859375, 15.581210136413574, 15.573297500610352, 15.565475463867188, 15.557737350463867, 15.550094604492188, 15.54253101348877, 15.535054206848145, 15.527661323547363, 15.520355224609375, 15.513128280639648, 15.505989074707031, 15.498921394348145, 15.491937637329102, 15.485033988952637, 15.478192329406738, 15.471445083618164, 15.4647798538208, 15.458181381225586, 15.45165729522705, 15.44520092010498, 15.438827514648438, 15.432515144348145, 15.426275253295898, 15.4201078414917, 15.414016723632812, 15.407987594604492, 15.402029037475586, 15.39613151550293, 15.390304565429688, 15.384547233581543, 15.378854751586914, 15.373212814331055, 15.367650985717773, 15.362139701843262, 15.356697082519531, 15.351318359375, 15.345993041992188, 15.340730667114258, 15.335528373718262, 15.3303861618042, 15.325297355651855, 15.320266723632812, 15.315299987792969, 15.310381889343262, 15.305519104003906, 15.300710678100586, 15.29595947265625, 15.291265487670898, 15.286623001098633, 15.282028198242188, 15.277481079101562, 15.272994995117188, 15.2685546875, 15.264165878295898, 15.2598237991333, 15.255533218383789, 15.251286506652832, 15.247093200683594, 15.242942810058594, 15.238847732543945, 15.234786987304688, 15.23077392578125, 15.226819038391113, 15.222885131835938, 15.219019889831543, 15.215185165405273, 15.211402893066406, 15.207662582397461, 15.203948974609375, 15.200284004211426, 15.196664810180664, 15.193086624145508, 15.189547538757324, 15.186044692993164, 15.182588577270508, 15.179162979125977, 15.17577838897705, 15.172429084777832, 15.1691312789917, 15.165858268737793, 15.162628173828125, 15.159423828125, 15.156270027160645, 15.1531400680542, 15.150056838989258, 15.147000312805176, 15.143964767456055, 15.140989303588867, 15.138035774230957, 15.135119438171387, 15.132226943969727, 15.129371643066406, 15.126550674438477, 15.123758316040039, 15.121005058288574, 15.118276596069336, 15.115572929382324, 15.11291217803955, 15.110270500183105, 15.10766887664795, 15.105093002319336, 15.10254192352295, 15.10002326965332, 15.097532272338867, 15.095067024230957, 15.092623710632324, 15.090222358703613, 15.08784008026123, 15.085487365722656, 15.083157539367676, 15.080853462219238, 15.078584671020508, 15.076329231262207, 15.07409954071045, 15.071908950805664, 15.069726943969727, 15.067578315734863, 15.065457344055176, 15.063344955444336, 15.061266899108887, 15.05921459197998]}\n"
          ]
        }
      ],
      "source": [
        "print(x.history)"
      ]
    },
    {
      "cell_type": "code",
      "execution_count": 13,
      "metadata": {
        "id": "RzKP5XOqDfiE",
        "outputId": "e6ebfb80-d70b-4012-e39f-df0c00016c46",
        "colab": {
          "base_uri": "https://localhost:8080/",
          "height": 447
        }
      },
      "outputs": [
        {
          "output_type": "execute_result",
          "data": {
            "text/plain": [
              "<Axes: >"
            ]
          },
          "metadata": {},
          "execution_count": 13
        },
        {
          "output_type": "display_data",
          "data": {
            "text/plain": [
              "<Figure size 640x480 with 1 Axes>"
            ],
            "image/png": "[encoded data removed]"
          },
          "metadata": {}
        }
      ],
      "source": [
        "import seaborn as sns\n",
        "sns.lineplot(data=x.history['loss'])"
      ]
    },
    {
      "cell_type": "code",
      "source": [
        "import numpy as np\n",
        "\n",
        "# Convert input to a NumPy array\n",
        "x_input = np.array([[10]])\n",
        "\n",
        "# Predict using the trained model\n",
        "predicted_price = model.predict(x_input)\n",
        "\n",
        "print(f\"Predicted Price: ${predicted_price[0][0] * 1000:.2f}\")\n"
      ],
      "metadata": {
        "colab": {
          "base_uri": "https://localhost:8080/"
        },
        "id": "ZeyhlfpKFn7n",
        "outputId": "104d1e50-4605-4b10-b12d-88f7d5f908da"
      },
      "execution_count": 15,
      "outputs": [
        {
          "output_type": "stream",
          "name": "stdout",
          "text": [
            "\u001b[1m1/1\u001b[0m \u001b[32m━━━━━━━━━━━━━━━━━━━━\u001b[0m\u001b[37m\u001b[0m \u001b[1m0s\u001b[0m 70ms/step\n",
            "Predicted Price: $66133.50\n"
          ]
        }
      ]
    },
    {
      "cell_type": "markdown",
      "metadata": {
        "id": "btF2CSFH2iEX"
      },
      "source": [
        "You might have thought 65, right? But it ended up being a little over. Why do you think that is?\n",
        "\n",
        "Remember that neural networks deal with probabilities, so given the data that we fed the NN with, it calculated that there is a very high probability that the relationship between X and Y is Y = 5.12 * x + 14.45, but with only 10 data points we can't know for sure. As a result, the result for 10 is very close to 65, but not necessarily 65.\n",
        "\n",
        "As you work with neural networks, you'll see this pattern recurring. You will almost always deal with probabilities, not certainties, and will do a little bit of coding to figure out what the result is based on the probabilities, particularly when it comes to classification.\n"
      ]
    },
    {
      "cell_type": "markdown",
      "source": [
        "# Nelson Housing Dataset and Building Model 1 and Model 2"
      ],
      "metadata": {
        "id": "KpAQoilpJ_9J"
      }
    },
    {
      "cell_type": "code",
      "source": [
        "\n",
        "\n",
        "# Define the dataset (Use your actual Nelson dataset here)\n",
        "x1 = np.array([55, 75, 55.5, 65, 55, 75, 1.5, 3, 1.75, 1, 3.1, 1.6])\n",
        "x2 = np.array([51, 55.5, 49, 61.5, 45, 65, 4, 5, 0.65, 2, 2.3, 2])\n",
        "y = np.array([250, 450, 300, 450, 385, 210, 380, 600, 450, 325, 424, 285])\n",
        "\n",
        "#  Normalize the data to scale between 0 and 1\n",
        "x1_norm = (x1 - x1.min()) / (x1.max() - x1.min())\n",
        "x2_norm = (x2 - x2.min()) / (x2.max() - x2.min())\n",
        "y_norm = y / 1000\n"
      ],
      "metadata": {
        "id": "N8gngJ8WJJ6X"
      },
      "execution_count": 20,
      "outputs": []
    },
    {
      "cell_type": "code",
      "source": [
        "# Model 1: Distance-Based Price Prediction\n",
        "model1 = tf.keras.Sequential([\n",
        "    keras.layers.Dense(units=1, input_shape=[1])\n",
        "])\n",
        "\n",
        "# Compile the model with a lower learning rate\n",
        "model1.compile(optimizer=tf.keras.optimizers.SGD(learning_rate=0.01), loss='mean_squared_error')\n",
        "\n",
        "# Train using the normalized X1\n",
        "model1.fit(x1_norm, y_norm, epochs=500, verbose=0)\n"
      ],
      "metadata": {
        "colab": {
          "base_uri": "https://localhost:8080/"
        },
        "id": "yiJ55O1eJpjL",
        "outputId": "2bb50717-d9c8-4085-eadb-90a2833396c4"
      },
      "execution_count": 21,
      "outputs": [
        {
          "output_type": "stream",
          "name": "stderr",
          "text": [
            "/usr/local/lib/python3.11/dist-packages/keras/src/layers/core/dense.py:87: UserWarning: Do not pass an `input_shape`/`input_dim` argument to a layer. When using Sequential models, prefer using an `Input(shape)` object as the first layer in the model instead.\n",
            "  super().__init__(activity_regularizer=activity_regularizer, **kwargs)\n"
          ]
        },
        {
          "output_type": "execute_result",
          "data": {
            "text/plain": [
              "<keras.src.callbacks.history.History at 0x78be7d4d11d0>"
            ]
          },
          "metadata": {},
          "execution_count": 21
        }
      ]
    },
    {
      "cell_type": "code",
      "source": [
        "# Model 2: Size-Based Price Prediction\n",
        "model2 = tf.keras.Sequential([\n",
        "    keras.layers.Dense(units=1, input_shape=[1])\n",
        "])\n",
        "\n",
        "# Compile the model with the same learning rate\n",
        "model2.compile(optimizer=tf.keras.optimizers.SGD(learning_rate=0.01), loss='mean_squared_error')\n",
        "\n",
        "# Train using the normalized X2\n",
        "model2.fit(x2_norm, y_norm, epochs=500, verbose=0)\n"
      ],
      "metadata": {
        "colab": {
          "base_uri": "https://localhost:8080/"
        },
        "id": "tSWzmqLsKfK4",
        "outputId": "9e5cf3e3-5ead-43d4-85c3-61766b88b608"
      },
      "execution_count": 22,
      "outputs": [
        {
          "output_type": "execute_result",
          "data": {
            "text/plain": [
              "<keras.src.callbacks.history.History at 0x78be7c7df410>"
            ]
          },
          "metadata": {},
          "execution_count": 22
        }
      ]
    },
    {
      "cell_type": "markdown",
      "source": [
        "# Predict price on distance from downtown"
      ],
      "metadata": {
        "id": "oZDG5KuZGkZt"
      }
    },
    {
      "cell_type": "code",
      "source": [
        "\n",
        "# Define new distances (normalize them before prediction)\n",
        "new_distances = np.array([10, 20, 30, 40, 50])\n",
        "new_distances_norm = (new_distances - x1.min()) / (x1.max() - x1.min())\n",
        "\n",
        "# Predict using model1\n",
        "pred_prices_x1 = model1.predict(new_distances_norm) * 1000\n",
        "\n",
        "# Display results\n",
        "print(\"\\nPredictions based on Distance from Downtown:\")\n",
        "for i, dist in enumerate(new_distances):\n",
        "    print(f\"Predicted price for an apartment {dist} km from downtown: ${pred_prices_x1[i][0]:.2f}\")\n"
      ],
      "metadata": {
        "colab": {
          "base_uri": "https://localhost:8080/"
        },
        "id": "LXBm5Ol8GeMF",
        "outputId": "4f728509-67ab-41ae-faab-cf1e6ac0275f"
      },
      "execution_count": 23,
      "outputs": [
        {
          "output_type": "stream",
          "name": "stdout",
          "text": [
            "\u001b[1m1/1\u001b[0m \u001b[32m━━━━━━━━━━━━━━━━━━━━\u001b[0m\u001b[37m\u001b[0m \u001b[1m0s\u001b[0m 55ms/step\n",
            "\n",
            "Predictions based on Distance from Downtown:\n",
            "Predicted price for an apartment 10 km from downtown: $317.05\n",
            "Predicted price for an apartment 20 km from downtown: $335.90\n",
            "Predicted price for an apartment 30 km from downtown: $354.76\n",
            "Predicted price for an apartment 40 km from downtown: $373.61\n",
            "Predicted price for an apartment 50 km from downtown: $392.46\n"
          ]
        }
      ]
    },
    {
      "cell_type": "markdown",
      "source": [
        "# Predict price based on the size of the apartment"
      ],
      "metadata": {
        "id": "8BgjVGjBHEK8"
      }
    },
    {
      "cell_type": "code",
      "source": [
        "# Define new apartment sizes (normalize them before prediction)\n",
        "new_sizes = np.array([500, 750, 1000, 1250, 1500])\n",
        "new_sizes_norm = (new_sizes - x2.min()) / (x2.max() - x2.min())\n",
        "\n",
        "# Predict using model2\n",
        "pred_prices_x2 = model2.predict(new_sizes_norm) * 1000\n",
        "\n",
        "# Display results\n",
        "print(\"\\nPredictions based on Apartment Size:\")\n",
        "for i, size in enumerate(new_sizes):\n",
        "    print(f\"Predicted price for an apartment of {size} sq. ft.: ${pred_prices_x2[i][0]:.2f}\")\n"
      ],
      "metadata": {
        "colab": {
          "base_uri": "https://localhost:8080/"
        },
        "id": "EJxHVxVrHEgk",
        "outputId": "50b399e0-ac06-455c-a2b6-3b7d7330a8cc"
      },
      "execution_count": 24,
      "outputs": [
        {
          "output_type": "stream",
          "name": "stdout",
          "text": [
            "\u001b[1m1/1\u001b[0m \u001b[32m━━━━━━━━━━━━━━━━━━━━\u001b[0m\u001b[37m\u001b[0m \u001b[1m0s\u001b[0m 54ms/step\n",
            "\n",
            "Predictions based on Apartment Size:\n",
            "Predicted price for an apartment of 500 sq. ft.: $610.57\n",
            "Predicted price for an apartment of 750 sq. ft.: $739.38\n",
            "Predicted price for an apartment of 1000 sq. ft.: $868.19\n",
            "Predicted price for an apartment of 1250 sq. ft.: $997.00\n",
            "Predicted price for an apartment of 1500 sq. ft.: $1125.81\n"
          ]
        }
      ]
    },
    {
      "cell_type": "markdown",
      "source": [
        "# Build & Train a Model That Uses Both Features"
      ],
      "metadata": {
        "id": "CYop9Z6jLZk6"
      }
    },
    {
      "cell_type": "code",
      "source": [
        "import numpy as np\n",
        "import tensorflow as tf\n",
        "from tensorflow import keras\n",
        "import matplotlib.pyplot as plt\n",
        "\n",
        "# Define the dataset\n",
        "y = np.array([55, 51, 60, 75, 55.5, 49, 65, 61.5, 55, 45, 75, 65])\n",
        "x1 = np.array([1.5, 3, 1.75, 1, 3.1, 1.6, 2.3, 2, 4, 5, 0.65, 2])\n",
        "x2 = np.array([350, 450, 300, 450, 385, 210, 380, 600, 450, 325, 424, 285])\n",
        "\n",
        "# Normalize both inputs based on the training set\n",
        "x1_min, x1_max = x1.min(), x1.max()\n",
        "x2_min, x2_max = x2.min(), x2.max()\n",
        "y_min, y_max = y.min(), y.max()\n",
        "\n",
        "x1_norm = (x1 - x1_min) / (x1_max - x1_min)\n",
        "x2_norm = (x2 - x2_min) / (x2_max - x2_min)\n",
        "y_norm = (y - y_min) / (y_max - y_min)\n",
        "\n",
        "# Combine X1 and X2 into a single input array\n",
        "X_combined = np.column_stack((x1_norm, x2_norm))\n",
        "\n"
      ],
      "metadata": {
        "id": "n3hiB6pWLd3M"
      },
      "execution_count": 16,
      "outputs": []
    },
    {
      "cell_type": "code",
      "source": [
        "#  Create a model with 2 input features (distance and size)\n",
        "model_combined = tf.keras.Sequential([\n",
        "    keras.layers.Dense(units=16, activation=\"relu\", input_shape=[2]),\n",
        "    keras.layers.BatchNormalization(),  # Helps with stable training\n",
        "    keras.layers.Dense(units=8, activation=\"relu\"),\n",
        "    keras.layers.Dense(units=1)\n",
        "])\n",
        "\n",
        "# Compile the model using Adam optimizer and mean squared error loss\n",
        "model_combined.compile(optimizer=tf.keras.optimizers.Adam(learning_rate=0.01), loss='mean_squared_error')\n",
        "\n",
        "# Train the model with increased epochs\n",
        "model_combined.fit(X_combined, y_norm, epochs=5000, verbose=0)"
      ],
      "metadata": {
        "colab": {
          "base_uri": "https://localhost:8080/"
        },
        "id": "ZDrDVhw1LoaW",
        "outputId": "b4547060-91ec-415b-877a-1ed371468a3e"
      },
      "execution_count": 17,
      "outputs": [
        {
          "output_type": "execute_result",
          "data": {
            "text/plain": [
              "<keras.src.callbacks.history.History at 0x7f07f05ee510>"
            ]
          },
          "metadata": {},
          "execution_count": 17
        }
      ]
    },
    {
      "cell_type": "markdown",
      "source": [
        "# Predict Prices Using Both Distance & Size"
      ],
      "metadata": {
        "id": "402_Ys_WL2WS"
      }
    },
    {
      "cell_type": "code",
      "source": [
        "# Define new test apartments (distance & size)\n",
        "new_apartments = np.array([\n",
        "    [10, 500],\n",
        "    [15, 750],\n",
        "    [17, 1000],\n",
        "    [12, 1250],\n",
        "    [11, 1500]\n",
        "])\n",
        "\n",
        "# Normalize values\n",
        "new_apartments[:, 0] = (new_apartments[:, 0] - x1_min) / (x1_max - x1_min)\n",
        "new_apartments[:, 1] = (new_apartments[:, 1] - x2_min) / (x2_max - x2_min)\n",
        "\n",
        "# Predict prices using the trained model\n",
        "pred_prices_combined = model_combined.predict(new_apartments)\n",
        "\n",
        "# Convert back to original scale\n",
        "pred_prices_combined = pred_prices_combined * (y_max - y_min) + y_min\n",
        "\n",
        "# Display predictions\n",
        "print(\"\\nPredictions using both Distance & Size:\")\n",
        "for i, (dist, size) in enumerate(new_apartments):\n",
        "    dist_actual = dist * (x1_max - x1_min) + x1_min\n",
        "    size_actual = size * (x2_max - x2_min) + x2_min\n",
        "\n",
        "    print(f\"Predicted price for an apartment {dist_actual:.2f} km from downtown & {size_actual:.2f} sq. ft.: ${pred_prices_combined[i][0]:.2f}\")\n"
      ],
      "metadata": {
        "colab": {
          "base_uri": "https://localhost:8080/"
        },
        "id": "dwzmEZcWLuKv",
        "outputId": "e22a39c1-a656-40da-b926-5d4bf8f8184d"
      },
      "execution_count": 19,
      "outputs": [
        {
          "output_type": "stream",
          "name": "stdout",
          "text": [
            "\u001b[1m1/1\u001b[0m \u001b[32m━━━━━━━━━━━━━━━━━━━━\u001b[0m\u001b[37m\u001b[0m \u001b[1m0s\u001b[0m 55ms/step\n",
            "\n",
            "Predictions using both Distance & Size:\n",
            "Predicted price for an apartment 9.35 km from downtown & 210.00 sq. ft.: $18.02\n",
            "Predicted price for an apartment 9.35 km from downtown & 210.00 sq. ft.: $18.02\n",
            "Predicted price for an apartment 13.70 km from downtown & 600.00 sq. ft.: $28.53\n",
            "Predicted price for an apartment 13.70 km from downtown & 600.00 sq. ft.: $28.53\n",
            "Predicted price for an apartment 13.70 km from downtown & 990.00 sq. ft.: $51.37\n",
            "Predicted price for an apartment 13.70 km from downtown & 990.00 sq. ft.: $51.37\n",
            "Predicted price for an apartment 9.35 km from downtown & 990.00 sq. ft.: $49.68\n",
            "Predicted price for an apartment 9.35 km from downtown & 990.00 sq. ft.: $49.68\n",
            "Predicted price for an apartment 9.35 km from downtown & 1380.00 sq. ft.: $25.50\n",
            "Predicted price for an apartment 9.35 km from downtown & 1380.00 sq. ft.: $25.50\n"
          ]
        }
      ]
    }
  ],
  "metadata": {
    "colab": {
      "provenance": [],
      "toc_visible": true,
      "include_colab_link": true
    },
    "kernelspec": {
      "display_name": "Python 3 (ipykernel)",
      "language": "python",
      "name": "python3"
    },
    "language_info": {
      "codemirror_mode": {
        "name": "ipython",
        "version": 3
      },
      "file_extension": ".py",
      "mimetype": "text/x-python",
      "name": "python",
      "nbconvert_exporter": "python",
      "pygments_lexer": "ipython3",
      "version": "3.10.11"
    }
  },
  "nbformat": 4,
  "nbformat_minor": 0
}