{
  "cells": [
    {
      "cell_type": "markdown",
      "metadata": {
        "id": "view-in-github",
        "colab_type": "text"
      },
      "source": [
        "<a href=\"https://colab.research.google.com/github/lamyse1/deep-learning-/blob/main/Week3/Notebook3.3.ipynb\" target=\"_parent\"><img src=\"https://colab.research.google.com/assets/colab-badge.svg\" alt=\"Open In Colab\"/></a>"
      ]
    },
    {
      "cell_type": "markdown",
      "metadata": {
        "id": "RiJ92av04erJ"
      },
      "source": [
        "# AAI612: Deep Learning & its Applications\n",
        "\n",
        "*Notebook 3.3: Practice with HuggingFace*\n",
        "\n",
        "<a href=\"https://colab.research.google.com/github/harmanani/AAI612/blob/main/Week3/Notebook3.3.ipynb\" target=\"_parent\"><img src=\"https://colab.research.google.com/assets/colab-badge.svg\" alt=\"Open In Colab\"/></a>"
      ]
    },
    {
      "cell_type": "markdown",
      "metadata": {
        "id": "ilgt4Q844erM"
      },
      "source": [
        "## Experiment with Hugging Face Transformers"
      ]
    },
    {
      "cell_type": "code",
      "execution_count": null,
      "metadata": {
        "id": "JIVpzfQT4erN"
      },
      "outputs": [],
      "source": [
        "text = \"\"\"Having served on the COVID Vaccine Development committee at Moderna, USA, \\\n",
        "    Dr. Nader was involved in the fight against the pandemic of the century. As \\\n",
        "    the race was on to develop a vaccine – the ultimate defense against a virus \\\n",
        "    of which little was known – what helped to expedite the process at the \\\n",
        "    pharmaceutical and biotechnology company was the availability of the \\\n",
        "    technology – messenger RNA – which had been 10 years in the making.\\\n",
        "    The development of vaccines in record time encapsulates the prerequisites \\\n",
        "    for discovery: research, technology, anticipation and inquiring minds, skills \\\n",
        "    that should be fostered in education.\"\"\""
      ]
    },
    {
      "cell_type": "markdown",
      "metadata": {
        "id": "6XUMYFaB4erO"
      },
      "source": [
        "### Text Completion"
      ]
    },
    {
      "cell_type": "markdown",
      "metadata": {
        "id": "vZZO7q1g4erO"
      },
      "source": [
        "Once you execute the below code, notice in the score in the output.  The highest the score, the higher the probability of that output being selected!"
      ]
    },
    {
      "cell_type": "code",
      "execution_count": null,
      "metadata": {
        "id": "3kSnp5AW4erO"
      },
      "outputs": [],
      "source": [
        "from transformers import pipeline\n",
        "\n",
        "# specifying the pipeline\n",
        "bert_unmasker = pipeline('fill-mask', model=\"bert-base-uncased\")\n",
        "text = \"I have to wake up in the morning and [MASK] a doctor\"\n",
        "result = bert_unmasker(text)\n",
        "for r in result:\n",
        "    print(r)"
      ]
    },
    {
      "cell_type": "markdown",
      "metadata": {
        "id": "IpGfxEvB4erP"
      },
      "source": [
        "### Text Classification"
      ]
    },
    {
      "cell_type": "markdown",
      "metadata": {
        "id": "F-RA94CT4erP"
      },
      "source": [
        "The below will be classified the above text as positive.  Can you change that?"
      ]
    },
    {
      "cell_type": "code",
      "execution_count": null,
      "metadata": {
        "id": "-4ZgxnPK4erP"
      },
      "outputs": [],
      "source": [
        "#hide_output\n",
        "from transformers import pipeline\n",
        "\n",
        "classifier = pipeline(\"text-classification\")"
      ]
    },
    {
      "cell_type": "code",
      "execution_count": null,
      "metadata": {
        "id": "j0vgADnO4erP"
      },
      "outputs": [],
      "source": [
        "import pandas as pd\n",
        "\n",
        "outputs = classifier(text)\n",
        "pd.DataFrame(outputs)"
      ]
    },
    {
      "cell_type": "markdown",
      "metadata": {
        "id": "TsnQjCZ54erQ"
      },
      "source": [
        "### Named Entity Recognition"
      ]
    },
    {
      "cell_type": "markdown",
      "metadata": {
        "id": "ETAELMk_4erQ"
      },
      "source": [
        "NER involves detecting and categorizing information in text known as named entities. Named entities refer to the key subjects of a piece of text, such as names, locations, companies, events and products, as well as themes, topics, times, monetary values and percentages."
      ]
    },
    {
      "cell_type": "code",
      "execution_count": null,
      "metadata": {
        "id": "lUx3j7Df4erQ"
      },
      "outputs": [],
      "source": [
        "ner_tagger = pipeline(\"ner\", aggregation_strategy=\"simple\")\n",
        "outputs = ner_tagger(text)\n",
        "pd.DataFrame(outputs)"
      ]
    },
    {
      "cell_type": "markdown",
      "metadata": {
        "id": "_vbJvwA_4erQ"
      },
      "source": [
        "### Question Answering"
      ]
    },
    {
      "cell_type": "code",
      "execution_count": null,
      "metadata": {
        "id": "-dCkJA8_4erQ"
      },
      "outputs": [],
      "source": [
        "reader = pipeline(\"question-answering\")\n",
        "question = \"What was Dr. Nader involved in?\"\n",
        "outputs = reader(question=question, context=text)\n",
        "pd.DataFrame([outputs])"
      ]
    },
    {
      "cell_type": "markdown",
      "metadata": {
        "id": "N01OriVA4erR"
      },
      "source": [
        "### Summarization"
      ]
    },
    {
      "cell_type": "code",
      "execution_count": null,
      "metadata": {
        "id": "FJqnD-ue4erR"
      },
      "outputs": [],
      "source": [
        "summarizer = pipeline(\"summarization\")\n",
        "outputs = summarizer(text, max_length=45, clean_up_tokenization_spaces=True)\n",
        "print(outputs[0]['summary_text'])"
      ]
    },
    {
      "cell_type": "markdown",
      "metadata": {
        "id": "ywxZI3Ij4erR"
      },
      "source": [
        "### Translation"
      ]
    },
    {
      "cell_type": "markdown",
      "metadata": {
        "id": "sSJn-1ac4erR"
      },
      "source": [
        "The below will use a German translation model.  Can you change this to French?  Google will be your best friend in this task :-)"
      ]
    },
    {
      "cell_type": "code",
      "execution_count": null,
      "metadata": {
        "id": "9-QHBPyN4erR"
      },
      "outputs": [],
      "source": [
        "translator = pipeline(\"translation_en_to_de\",\n",
        "                      model=\"Helsinki-NLP/opus-mt-en-de\")\n",
        "outputs = translator(text, clean_up_tokenization_spaces=True, min_length=100)\n",
        "print(outputs[0]['translation_text'])"
      ]
    },
    {
      "cell_type": "markdown",
      "metadata": {
        "id": "qxf8_MA54erS"
      },
      "source": [
        "### Text Generation"
      ]
    },
    {
      "cell_type": "code",
      "execution_count": null,
      "metadata": {
        "id": "8Uby8Kop4erS"
      },
      "outputs": [],
      "source": [
        "#hide\n",
        "from transformers import set_seed\n",
        "set_seed(42) # Set the seed to get reproducible results"
      ]
    },
    {
      "cell_type": "code",
      "execution_count": null,
      "metadata": {
        "id": "D-Um6e074erS"
      },
      "outputs": [],
      "source": [
        "generator = pipeline(\"text-generation\")\n",
        "response = \"Dear Dr. Nader, Thank you for working on the vaccine.\"\n",
        "prompt = text + \"\\n\\nResponse to the story:\\n\" + response\n",
        "outputs = generator(prompt, max_length=500)\n",
        "print(outputs[0]['generated_text'])"
      ]
    }
  ],
  "metadata": {
    "kernelspec": {
      "display_name": "Python 3 (ipykernel)",
      "language": "python",
      "name": "python3"
    },
    "language_info": {
      "codemirror_mode": {
        "name": "ipython",
        "version": 3
      },
      "file_extension": ".py",
      "mimetype": "text/x-python",
      "name": "python",
      "nbconvert_exporter": "python",
      "pygments_lexer": "ipython3",
      "version": "3.10.11"
    },
    "colab": {
      "provenance": [],
      "include_colab_link": true
    }
  },
  "nbformat": 4,
  "nbformat_minor": 0
}